{
 "cells": [
  {
   "cell_type": "code",
   "execution_count": 21,
   "metadata": {},
   "outputs": [],
   "source": [
    "from scipy.integrate import odeint\n",
    "import matplotlib.pyplot as plt\n",
    "import numpy as np\n",
    "import networkx as nx"
   ]
  },
  {
   "cell_type": "code",
   "execution_count": 22,
   "metadata": {},
   "outputs": [],
   "source": [
    "from typing import Callable, Sequence\n",
    "\n",
    "class Unit:\n",
    "    def __init__(self):\n",
    "        pass\n",
    "        \n",
    "    def initialize(self, predecessors, successors):\n",
    "        pass\n",
    "        \n",
    "    def deriv(self,h: float,t, qin, qout):\n",
    "        pass\n",
    "    \n",
    "    def plot(self):\n",
    "        pass\n",
    "    \n",
    "    def update(self,t, predecessors, successors):\n",
    "        pass"
   ]
  },
  {
   "cell_type": "code",
   "execution_count": 23,
   "metadata": {},
   "outputs": [],
   "source": [
    "class Reservoir(Unit):\n",
    "    \n",
    "    def __init__(self, name: str, A: Callable[[float], float], IC: float, datum: float= 0) -> None:\n",
    "        self.name = name\n",
    "        self.A_func = A\n",
    "        self.datum = datum\n",
    "        \n",
    "        self.IC = IC\n",
    "        \n",
    "    def initialize(self, predecessors: Sequence[Unit], successors: Sequence[Unit]) -> None:\n",
    "        self.t = 0\n",
    "        self.h = self.IC\n",
    "        self._log = {'t':[], 'h':[]}\n",
    "        self._log['t'].append(self.t)\n",
    "        self._log['h'].append(self.h)\n",
    "        \n",
    "    def deriv(self,t: float, h: float, qin: float, qout: float) -> float:\n",
    "        dh = (qin - qout)/self.A_func(h)\n",
    "        return dh\n",
    "    \n",
    "    def plot(self) -> None:\n",
    "        t = self._log['t']\n",
    "        h = self._log['h']\n",
    "        plt.plot(t,h,label=self.name + ' h')\n",
    "        plt.legend()\n",
    "    \n",
    "    def get_water_height(self) -> float:\n",
    "        return self.h\n",
    "    \n",
    "    def get_water_level(self) -> float:\n",
    "        return self.h + self.datum\n",
    "    \n",
    "    def update(self, t: float, predecessors: Sequence[Unit], successors: Sequence[Unit]) -> None:\n",
    "        qin = 0\n",
    "        for node in predecessors:\n",
    "            qin += node.q\n",
    "        qout = 0\n",
    "        for node in successors:\n",
    "            qout += node.q\n",
    "        \n",
    "        self.h = float(odeint(lambda x,t: self.deriv(t, x, qin, qout), self.h, [self.t, t])[-1])\n",
    "        self._log['t'].append(t)\n",
    "        self._log['h'].append(self.h)\n",
    "        self.t = t"
   ]
  },
  {
   "cell_type": "code",
   "execution_count": 24,
   "metadata": {},
   "outputs": [],
   "source": [
    "class Source:\n",
    "    def __init__(self, func_: Callable[[float], float]):\n",
    "        self.func_ = func_\n",
    "        \n",
    "    def initialize(self, predecessors: Sequence[Unit], successors: Sequence[Unit]):\n",
    "        self.update(0,predecessors, successors)\n",
    "        \n",
    "    def update(self, t, predecessors: Sequence[Unit], successors: Sequence[Unit]):\n",
    "        self.q = self.func_(t, predecessors, successors)\n",
    "\n",
    "class Sink():\n",
    "    def initialize(self, predecessors: Sequence[Unit], successors: Sequence[Unit]):\n",
    "        pass\n",
    "    \n",
    "    def update(self, t, predecessors: Sequence[Unit], successors: Sequence[Unit]):\n",
    "        pass"
   ]
  },
  {
   "cell_type": "code",
   "execution_count": 25,
   "metadata": {},
   "outputs": [],
   "source": [
    "class Valve():\n",
    "    def __init__(self, Cv: float, opening_func: Callable[[float], float]):\n",
    "        self.Cv = Cv\n",
    "        self.opening_func = opening_func\n",
    "        self.u = 0\n",
    "        \n",
    "    def initialize(self, predecessors: Sequence[Unit], successors: Sequence[Unit]):\n",
    "        self.update(0,predecessors,successors)\n",
    "    \n",
    "    def update(self, t: float, predecessors: Sequence[Unit], successors: Sequence[Unit]):\n",
    "        self.u = self.opening_func(t,predecessors,successors)\n",
    "        h = predecessors[0].get_water_height()\n",
    "        self.q = self.u*self.Cv*np.sqrt(h)\n",
    "    "
   ]
  },
  {
   "cell_type": "code",
   "execution_count": 26,
   "metadata": {},
   "outputs": [],
   "source": [
    "class Pump_Turbine():\n",
    "    def __init__(self, flow_func: Callable[[float], float]):\n",
    "        self.flow_func = flow_func\n",
    "        \n",
    "    def initialize(self, predecessors: Sequence[Unit], successors: Sequence[Unit]):\n",
    "        self.update(0,predecessors,successors)\n",
    "    \n",
    "    def update(self, t, predecessors: Sequence[Unit], successors: Sequence[Unit]):\n",
    "        self.q = self.flow_func(t,predecessors,successors)"
   ]
  },
  {
   "cell_type": "code",
   "execution_count": 27,
   "metadata": {},
   "outputs": [],
   "source": [
    "class SimulationProblem():\n",
    "    def __init__(self, dt: float=0.01):\n",
    "        self.graph = nx.DiGraph()\n",
    "        self.dt = dt\n",
    "    \n",
    "    def connect(self, element1: Unit, element2: Unit):\n",
    "        self.graph.add_edge(element1, element2)\n",
    "    \n",
    "    def connect_multiple(self, list_of_elements: Sequence[Unit]):\n",
    "        self.graph.add_edges_from(list_of_elements)\n",
    "    \n",
    "    def initialize(self):\n",
    "        for node in nx.topological_sort(self.graph):\n",
    "            predecessors = list(self.graph.predecessors(node))\n",
    "            successors = list(self.graph.successors(node))\n",
    "            node.initialize(predecessors, successors)\n",
    "    \n",
    "    def simulate(self, t_end:float):\n",
    "        dt = self.dt\n",
    "        for t in np.arange(dt,t_end,dt):\n",
    "            for node in nx.topological_sort(self.graph):\n",
    "                predecessors = list(self.graph.predecessors(node))\n",
    "                successors = list(self.graph.successors(node))\n",
    "                node.update(t, predecessors, successors)\n"
   ]
  },
  {
   "cell_type": "code",
   "execution_count": 28,
   "metadata": {},
   "outputs": [
    {
     "data": {
      "image/png": "[encoded data removed]",
      "text/plain": [
       "<Figure size 432x288 with 1 Axes>"
      ]
     },
     "metadata": {
      "needs_background": "light"
     },
     "output_type": "display_data"
    }
   ],
   "source": [
    "def qin(t, predecessors, successors):\n",
    "    return 0.4\n",
    "\n",
    "def v1_opening(t, predecessors, successors):\n",
    "    return 1\n",
    "\n",
    "def v2_opening(t, predecessors, successors):\n",
    "    return 1\n",
    "\n",
    "source = Source(qin)\n",
    "res1 = Reservoir(name='res1', A = lambda h: 0.2, IC=0)\n",
    "v1 = Valve(0.5, v1_opening)\n",
    "res2 = Reservoir(name='res2', A = lambda h: 0.2, IC=0)\n",
    "v2 = Valve(0.5, v2_opening)\n",
    "sink = Sink()\n",
    "\n",
    "sim = SimulationProblem()\n",
    "sim.connect_multiple([\n",
    "    (source, res1),\n",
    "    (res1, v1),\n",
    "    (v1, res2),\n",
    "    (res2, v2),\n",
    "    (v2, sink ),\n",
    "])\n",
    "sim.initialize()\n",
    "sim.simulate(8)\n",
    "\n",
    "res1.plot()\n",
    "res2.plot()"
   ]
  },
  {
   "cell_type": "code",
   "execution_count": 29,
   "metadata": {},
   "outputs": [
    {
     "data": {
      "image/png": "[encoded data removed]",
      "text/plain": [
       "<Figure size 432x288 with 1 Axes>"
      ]
     },
     "metadata": {
      "needs_background": "light"
     },
     "output_type": "display_data"
    }
   ],
   "source": [
    "def qin(t, predecessors, successors):\n",
    "    return 5 + 2 *np.sin(np.pi*t)\n",
    "\n",
    "def pump_flow(t, predecessors, successors):\n",
    "    return 5\n",
    "\n",
    "source = Source(qin)\n",
    "res1 = Reservoir(name='res1', A = lambda h: 1, IC=0)\n",
    "p1 = Pump_Turbine(pump_flow)\n",
    "sink = Sink()\n",
    "\n",
    "sim = SimulationProblem()\n",
    "sim.connect_multiple([\n",
    "    (source, res1),\n",
    "    (res1, p1),\n",
    "    (p1, sink ),\n",
    "])\n",
    "\n",
    "sim.initialize()\n",
    "sim.simulate(8)\n",
    "\n",
    "res1.plot()"
   ]
  },
  {
   "cell_type": "code",
   "execution_count": 30,
   "metadata": {},
   "outputs": [
    {
     "data": {
      "image/png": "[encoded data removed]",
      "text/plain": [
       "<Figure size 432x288 with 1 Axes>"
      ]
     },
     "metadata": {
      "needs_background": "light"
     },
     "output_type": "display_data"
    }
   ],
   "source": [
    "def qin(t, predecessors, successors):\n",
    "    return 5 + 2 *np.sin(np.pi*t)\n",
    "\n",
    "def pump_flow(t, predecessors, successors):\n",
    "    return 5\n",
    "\n",
    "source = Source(qin)\n",
    "res1 = Reservoir(name='res1', A = lambda h: h**2, IC=1e-5)\n",
    "p1 = Pump_Turbine(pump_flow)\n",
    "sink = Sink()\n",
    "\n",
    "sim = SimulationProblem(0.01)\n",
    "sim.connect_multiple([\n",
    "    (source, res1),\n",
    "    (res1, p1),\n",
    "    (p1, sink ),\n",
    "])\n",
    "\n",
    "sim.initialize()\n",
    "sim.simulate(8)\n",
    "\n",
    "res1.plot()"
   ]
  },
  {
   "cell_type": "markdown",
   "metadata": {},
   "source": [
    "# importing model"
   ]
  },
  {
   "cell_type": "code",
   "execution_count": 31,
   "metadata": {},
   "outputs": [
    {
     "name": "stdout",
     "output_type": "stream",
     "text": [
      "{'model': {'name': 'Example', 'components': {'inflow': {'name': 'inflow', 'Q': 'q_in'}, 'storage': {'name': 'storage', 'V': 'V_storage', 'nominal': '4e5', 'min': '2e5', 'max': '6e5'}, 'pipe': {'name': 'release', 'Q': 'q_release', 'min': 0.0, 'max': 6.5}, 'terminal': {'name': 'outfall'}}, 'inputs': {'q_in': {'fixed': True}}, 'outputs': ['V_storage', 'q_release'], 'connnections': {'inflow': 'storage', 'storage': 'pipe', 'pipe': 'terminal'}}}\n"
     ]
    }
   ],
   "source": [
    "import yaml\n",
    "\n",
    "with open('model.yaml') as f:\n",
    "    data = yaml.load(f, Loader=yaml.FullLoader)\n",
    "print(data)"
   ]
  },
  {
   "cell_type": "code",
   "execution_count": 32,
   "metadata": {},
   "outputs": [
    {
     "ename": "SyntaxError",
     "evalue": "invalid syntax (<ipython-input-32-3370d3bf9664>, line 10)",
     "output_type": "error",
     "traceback": [
      "\u001b[1;36m  File \u001b[1;32m\"<ipython-input-32-3370d3bf9664>\"\u001b[1;36m, line \u001b[1;32m10\u001b[0m\n\u001b[1;33m    elif node_name == 'terminal'\u001b[0m\n\u001b[1;37m                                ^\u001b[0m\n\u001b[1;31mSyntaxError\u001b[0m\u001b[1;31m:\u001b[0m invalid syntax\n"
     ]
    }
   ],
   "source": [
    "for node_name, node_data in data['model']['components'].items():\n",
    "    if node_name == 'inflow':\n",
    "        Q_name = node_data['Q']\n",
    "        name = node_data['name']\n",
    "        source = Source(qin)\n",
    "    elif node_name == 'storage':\n",
    "        pass\n",
    "    elif node_name == 'pipe':\n",
    "        pass\n",
    "    elif node_name == 'terminal':\n",
    "        pass"
   ]
  },
  {
   "cell_type": "code",
   "execution_count": null,
   "metadata": {},
   "outputs": [],
   "source": []
  }
 ],
 "metadata": {
  "kernelspec": {
   "display_name": "Python 3",
   "language": "python",
   "name": "python3"
  },
  "language_info": {
   "codemirror_mode": {
    "name": "ipython",
    "version": 3
   },
   "file_extension": ".py",
   "mimetype": "text/x-python",
   "name": "python",
   "nbconvert_exporter": "python",
   "pygments_lexer": "ipython3",
   "version": "3.8.6"
  }
 },
 "nbformat": 4,
 "nbformat_minor": 4
}

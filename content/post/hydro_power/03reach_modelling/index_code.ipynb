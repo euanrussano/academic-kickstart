{
 "cells": [
  {
   "cell_type": "raw",
   "metadata": {},
   "source": [
    "---\n",
    "# Documentation: [Managing content | Academic](https://sourcethemes.com/academic/docs/managing-content/)\n",
    "\n",
    "title: \"Modelling, Simulation and Control of Hydro-Power System - Part 3\"\n",
    "subtitle: \"Model of the reaches\"\n",
    "summary: \"In this series I will show the entire process of developing a model, performing simulations and the use of different control techniques for decision support in flood management systems.\"\n",
    "authors: []\n",
    "tags: [\"Flood Forecasting\", \"Model Predictive Control\"]\n",
    "categories: [\"Flood Management\"]\n",
    "date: 2021-02-10T10:01:00\n",
    "lastmod: 2021-02-10T10:01:00\n",
    "featured: false\n",
    "draft: false\n",
    "\n",
    "# Featured image\n",
    "\n",
    "# To use, add an image named `featured.jpg/png` to your page's folder.\n",
    "\n",
    "# Focal points: Smart, Center, TopLeft, Top, TopRight, Left, Right, BottomLeft, Bottom, BottomRight.\n",
    "\n",
    "image:\n",
    " caption: \"Image by <a href='https://pixabay.com/users/russmac-756431/?utm_source=link-attribution&amp;utm_medium=referral&amp;utm_campaign=image&amp;utm_content=929406'>Russ McElroy</a> from <a href='https://pixabay.com/?utm_source=link-attribution&amp;utm_medium=referral&amp;utm_campaign=image&amp;utm_content=929406'>Pixabay</a>\"\n",
    " focal_point: \"Smart\"\n",
    " preview_only: false\n",
    "\n",
    "# Projects (optional).\n",
    "\n",
    "# Associate this post with one or more of your projects.\n",
    "\n",
    "# Simply enter your project's folder or file name without extension.\n",
    "\n",
    "# E.g. `projects = [\"internal-project\"]` references `content/project/deep-learning/index.md`.\n",
    "\n",
    "# Otherwise, set `projects = []`.\n",
    "\n",
    "projects: [\"Modelling, Simulation and Control of Hydro-power system\"]\n",
    "---"
   ]
  },
  {
   "cell_type": "markdown",
   "metadata": {},
   "source": [
    "## Overview\n",
    "\n",
    "In the previous post of this series (see [here](/post/hydro_power/02lake_modelling)), I showed how to develop a mathematical model that can mimic the dynamic behaviour of lakes (hydro reservoirs). In this post I will show how to develop a mathematical representation of the reaches (river sections) in the hydro-power system.\n",
    "\n",
    "This mathematical development is a bit more complex than the last one. It will require the incorporation of the De Saint Venant Equations and some spatial discretization to translate a partial differential equation (PDE) into a set of ordinary differential equations (ODE).\n",
    "\n",
    "For this example, it is enough to consider one dimensional hydraulics with constant fluid density, thus neglecting the effects on other coordinates that are not in the same direction as the river flow."
   ]
  },
  {
   "cell_type": "markdown",
   "metadata": {},
   "source": [
    "## De Saint Venant Equations\n",
    "\n",
    "Also known as the Shallow Water Equations, it can be used to represent unsteady, free-surface, one-dimensional hydraulics with constant fluid density. These equations constitute both mass and momentum conservation, related to two states:\n",
    "+ the river cross section $A(x,t)$\n",
    "+ the volumetric flow rate $Q(x,t)$\n",
    "Where $x$ is the spatial coordinate and $t$ is the time coordinate.\n",
    "\n",
    "In the conservative form, mass and momentum equations can be respectively written as:\n",
    "\n",
    "$$\n",
    "\\frac{\\partial A}{\\partial t} + \\frac{\\partial Q}{\\partial x} = 0\n",
    "$$\n",
    "\n",
    "$$\n",
    "\\frac{\\partial Q}{\\partial t} + \\frac{\\partial}{\\partial x}\\left( \\beta \\frac{Q^2}{A} + \\frac{P}{\\rho} \\right) + gA(S_f - S_0) = 0\n",
    "$$\n",
    "\n",
    "Where $t$ is the time, $A$ is the wetted area, $Q$ is the volumetric flow rate, $P$ is the pressure, $\\beta$ is the Boussinesq coefficient, $\\rho$ is the water density, $S_f$ is the friction slope, $S_0$ is the bed slope and $g$ is acceleration due to gravity.\n",
    "\n",
    "The friction slope $S_f$ is defined by the Manning-Strickler formula:\n",
    "\n",
    "$$\n",
    "S_f = \\frac{(Q/A)^2}{k_{str}^2 \\cdot R^{4/3}}\n",
    "$$\n",
    "\n",
    "$$\n",
    "R = A/P\n",
    "$$\n",
    "\n",
    "Where $k_{str}$ is the Strickler coefficient, $R$ is the hydraulic radius ad $P$ is the wetted perimeter.\n",
    "\n"
   ]
  },
  {
   "cell_type": "code",
   "execution_count": null,
   "metadata": {},
   "outputs": [],
   "source": []
  }
 ],
 "metadata": {
  "kernelspec": {
   "display_name": "Python 3",
   "language": "python",
   "name": "python3"
  },
  "language_info": {
   "codemirror_mode": {
    "name": "ipython",
    "version": 3
   },
   "file_extension": ".py",
   "mimetype": "text/x-python",
   "name": "python",
   "nbconvert_exporter": "python",
   "pygments_lexer": "ipython3",
   "version": "3.8.6"
  }
 },
 "nbformat": 4,
 "nbformat_minor": 4
}

{
 "cells": [
  {
   "cell_type": "markdown",
   "metadata": {},
   "source": [
    "---\n",
    "# Documentation: [Managing content | Academic](https://sourcethemes.com/academic/docs/managing-content/)\n",
    "\n",
    "title: \"Modelling, Simulation and Control of Hydro-Power System - Part 2\"\n",
    "subtitle: \"Model of the lakes\"\n",
    "summary: \"In this series I will show the entire process of developing a model, performing simulations and the use of different control techniques for decision support in flood management systems.\"\n",
    "authors: []\n",
    "tags: [\"Flood Forecasting\", \"Model Predictive Control\"]\n",
    "categories: [\"Flood Management\"]\n",
    "date: 2021-02-10T10:01:00\n",
    "lastmod: 2021-02-10T10:01:00\n",
    "featured: false\n",
    "draft: false\n",
    "\n",
    "# Featured image\n",
    "\n",
    "# To use, add an image named `featured.jpg/png` to your page's folder.\n",
    "\n",
    "# Focal points: Smart, Center, TopLeft, Top, TopRight, Left, Right, BottomLeft, Bottom, BottomRight.\n",
    "\n",
    "image:\n",
    " caption: \"Image by <a href='https://pixabay.com/users/russmac-756431/?utm_source=link-attribution&amp;utm_medium=referral&amp;utm_campaign=image&amp;utm_content=929406'>Russ McElroy</a> from <a href='https://pixabay.com/?utm_source=link-attribution&amp;utm_medium=referral&amp;utm_campaign=image&amp;utm_content=929406'>Pixabay</a>\"\n",
    " focal_point: \"Smart\"\n",
    " preview_only: false\n",
    "\n",
    "# Projects (optional).\n",
    "\n",
    "# Associate this post with one or more of your projects.\n",
    "\n",
    "# Simply enter your project's folder or file name without extension.\n",
    "\n",
    "# E.g. `projects = [\"internal-project\"]` references `content/project/deep-learning/index.md`.\n",
    "\n",
    "# Otherwise, set `projects = []`.\n",
    "\n",
    "projects: [\"Modelling, Simulation and Control of Hydro-power system\"]\n",
    "---"
   ]
  },
  {
   "cell_type": "markdown",
   "metadata": {},
   "source": [
    "## Overview\n",
    "\n",
    "In the previous post of this series (see [here](/post/hydro_power/01system_description)), I showed an overview of the system we intend to model and investigate. In this post I will show how to develop a simple yet effective mathematical representation of the series of lakes in the hydro-power system.\n",
    "\n",
    "The main use of these lakes is to work as a battery, i.e energy storage. At times when energy is at low demand, water can be pumped from the river to the lakes and stored there as potential energy. When there is a greater demand and only the level of water from the river can not provide enough energy, water can flow from the lakes to the river through turbines, using its kinetic energy to generate extra energy. Notice that this process is, in a real-world case, not 100% efficient. This means that more energy is needed to pump the water from the river to the lakes, then can be extracted by turbining from the lakes to the river. Yet, it can be a useful technique to keep the balance in energy generation, and also to redirect volume of water when its excess can cause floods downstream.\n",
    "\n",
    "Without further delay, let's start the modeling process."
   ]
  },
  {
   "cell_type": "markdown",
   "metadata": {},
   "source": [
    "## Mathematical representation of the lakes"
   ]
  },
  {
   "cell_type": "markdown",
   "metadata": {},
   "source": [
    "The water stored in the lake changes according the inflow and outflow rates. As the volume of water decreases, the level also decreases. In essence the mass conservation is the basic equation to describe the lakes:\n",
    "\n",
    "$$\n",
    "\\frac{dm}{dt} = w_{in}(t) - w_{out}(t)\n",
    "$$\n",
    "\n",
    "Where $m$ is the mass of water (kg), $t$ is the time (s), $w_{in}$ is the mass inflow rate (kg/s) and $w_{in}$ is the mass outflow rate (kg/s). The above equation can be rewritten as:\n",
    "\n",
    "$$\n",
    "\\frac{d(\\rho hA)}{dt} = \\rho q_{in}(t) - \\rho q_{out}(t)\n",
    "$$\n",
    "\n",
    "Where $\\rho$ is the density of water, $h$ is the water level and $A$ is the cross-section area of the lake. Since any liquid can be reasonably considered incompressible (no change of volume with pressure), the density $\\rho$ can be considered constant, and thus cancelled out. The cross-section area $A$ may be constant (like a cube) or it may be a function of the water level. For better generalization. let's say $A = A(h)$, thus the final equation is:\n",
    "\n",
    "$$\n",
    "\\frac{d(h A(h))}{dt} = q_{in}(t) - q_{out}(t)\n",
    "$$\n",
    "\n",
    "The above equation is an ordinary differential equation, relating the rate of change of volume ($h A(h)$) with the inlet and outlet flow rates. It can be solved using numerical integration, if all the other variables ($q_i$) are known"
   ]
  },
  {
   "cell_type": "markdown",
   "metadata": {},
   "source": [
    "## Power generated/consumed by pumps and turbines\n",
    "\n",
    "The power $p$ generated/consumed by pumps and turbines is directly proportional to the flow rate $q$ and the difference in water height $H$ upstream and downstream. The following equation describes this relation in a simple form:\n",
    "\n",
    "$$\n",
    "p = K \\cdot q \\cdot H\n",
    "$$\n",
    "\n",
    "Where $K$ is constant of proportionality, which can be referred as the pump/turbine coefficient (positive for turbines and negative for pumps)."
   ]
  },
  {
   "cell_type": "markdown",
   "metadata": {},
   "source": [
    "## Pipes and valves\n",
    "\n",
    "The connection between lake 1 and 2 is made through a valve. The discharge through this element can in general be modelled by a non-linear relationship with the difference in height upstream and downstream $H$ as:\n",
    "\n",
    "$$\n",
    "q = -\\text{sign}(H)\\cdot A \\cdot \\sqrt{2g|H|}\n",
    "$$\n",
    "\n",
    "Where $A$ is the duct section.\n"
   ]
  },
  {
   "cell_type": "markdown",
   "metadata": {},
   "source": [
    "### Modular implementation of the lakes, pumps, turbines and ducts in Python\n",
    "\n",
    "A modular approach is a useful way of implementing system behaviors, separating the organization of information and the flow of it through different components in the main simulation loop.\n",
    "\n",
    "**OOP** is very handy for that, since it can be used to encapsulate the parameters of each instance of a class, where the class serves as a blueprint and the instances are the mathematical representations of systems."
   ]
  },
  {
   "cell_type": "code",
   "execution_count": 39,
   "metadata": {},
   "outputs": [],
   "source": [
    "# import necessary libraries\n",
    "import matplotlib.pyplot as plt\n",
    "import numpy as np\n",
    "from scipy.integrate import odeint\n",
    "\n",
    "GRAVITY = 9.81 # m/s2"
   ]
  },
  {
   "cell_type": "markdown",
   "metadata": {},
   "source": [
    "### Generic model class\n",
    "\n",
    "The generic model is a superclass which contains the basic behavior of a model such as lake, valve, pump, etc. The other models will inherit from this class."
   ]
  },
  {
   "cell_type": "code",
   "execution_count": 112,
   "metadata": {},
   "outputs": [],
   "source": [
    "class GenericModel:\n",
    "    \n",
    "    def __init__(self, name='', recorded_variables=[]):\n",
    "        self.name = name\n",
    "        self._log = {var: [] for var in recorded_variables}\n",
    "        self._log['t'] = []\n",
    "    \n",
    "    def plot(self):\n",
    "        t = self._log['t']\n",
    "        for var in self._log:\n",
    "            if var != 't':\n",
    "                plt.plot(t,self._log[var] ,label=self.name + var)\n",
    "        plt.legend()\n",
    "    \n",
    "    def generator(self,dt):\n",
    "        raise NotImplementedError\n",
    "    \n",
    "    def log_data(self, t, **kwargs):\n",
    "        self._log['t'].append(t)\n",
    "        for var in kwargs:\n",
    "            self._log[var].append(kwargs[var])\n",
    "    "
   ]
  },
  {
   "cell_type": "markdown",
   "metadata": {},
   "source": [
    "## Valve/ Pipe class\n",
    "\n",
    "The pipe basic resemples the generic connector, since it does not generate/consume energy and it can not be opened/closed. The valve enhances the pipe by incorporating a manipulated variable $u$ which can be used to open/close the duct, restricting or not the flow rate."
   ]
  },
  {
   "cell_type": "code",
   "execution_count": 113,
   "metadata": {},
   "outputs": [],
   "source": [
    "class Pipe(GenericModel):\n",
    "    def __init__(self, name='',A=1):\n",
    "        recorded_variables = ['qout']\n",
    "        super().__init__(name = name, recorded_variables = recorded_variables)\n",
    "    \n",
    "    def q(self, t, h_up, h_down):\n",
    "        H = h_up - h_down\n",
    "        return A*np.sqrt(GRAVITY * H)\n",
    "    \n",
    "    def generator(self,dt):\n",
    "        t = 0\n",
    "        h_up = 0\n",
    "        h_down = 0\n",
    "        while True:\n",
    "            t, h_up, h_down = yield self.q(t, h_up, h_down)\n",
    "            self.log_data(t = t, qout = self.q(t))\n",
    "            t += dt"
   ]
  },
  {
   "cell_type": "code",
   "execution_count": 145,
   "metadata": {},
   "outputs": [],
   "source": [
    "class Valve(GenericModel):\n",
    "    def __init__(self, name='',A=1, u=lambda t: 1):\n",
    "        recorded_variables = ['qout']\n",
    "        super().__init__(name = name, recorded_variables = recorded_variables)\n",
    "        self.u = u\n",
    "    \n",
    "    def q(self, t, h_up, h_down):\n",
    "        H = h_up - h_down\n",
    "        return self.u(t) * A*np.sqrt(GRAVITY * H)\n",
    "    \n",
    "    def generator(self,dt):\n",
    "        t = 0\n",
    "        h_up = 0\n",
    "        h_down = 0\n",
    "        while True:\n",
    "            t, h_up, h_down = yield self.q(t, h_up, h_down)\n",
    "            self.log_data(t = t, qout = self.q(t))\n",
    "            t += dt"
   ]
  },
  {
   "cell_type": "markdown",
   "metadata": {},
   "source": [
    "## Turbine/ Pump class\n",
    "\n",
    "The turbine or pump is an enhacement of the valve class, because they not only can be manipulated (from 0% to 100% full power), but also consumes/ generate electricity. The difference in them is on the value of $K$, which is positive for turbines and negative for pumps."
   ]
  },
  {
   "cell_type": "code",
   "execution_count": 115,
   "metadata": {},
   "outputs": [],
   "source": [
    "class Pump_Turbine(GenericModel):\n",
    "    def __init__(self, name='',A=1, K=1, u=lambda t: 1):\n",
    "        recorded_variables = ['qout', 'power']\n",
    "        super().__init__(name = name, recorded_variables = recorded_variables)\n",
    "        self.K = 1\n",
    "        self.u = u\n",
    "    \n",
    "    def q(self, t):\n",
    "        return self.u(t)\n",
    "    \n",
    "    def power(self, t, h_up, h_down):\n",
    "        H = h_up - h_down\n",
    "        return self.K * self.q(t) * H\n",
    "    \n",
    "    def generator(self,dt):\n",
    "        t = 0\n",
    "        while True:\n",
    "            t, h_up, h_down = yield self.q(t)\n",
    "            self.log_data(t = t, qout = self.q(t), power = self.power(t, h_up, h_down))\n",
    "            t += dt"
   ]
  },
  {
   "cell_type": "markdown",
   "metadata": {},
   "source": [
    "### Lake Class\n",
    "\n",
    "The lake class incorporates the behavior of any lake. Since the cross-section area $A$ may be constant or not ($A = A(h)$), this concept is incorporated in the class, so the Area $A$ is passed as a function of water level."
   ]
  },
  {
   "cell_type": "code",
   "execution_count": 132,
   "metadata": {},
   "outputs": [],
   "source": [
    "class Lake(GenericModel):\n",
    "    \n",
    "    def __init__(self, name='', A=lambda h: 1, bottom_height = 0):\n",
    "        recorded_variables = ['qout', 'h']\n",
    "        super().__init__(name = name, recorded_variables = recorded_variables)\n",
    "        self.A = A\n",
    "        self.bottom_height = bottom_height\n",
    "    \n",
    "    def deriv(self,h,t):\n",
    "        dh = (self.qin - self.qout)/self.A(h)\n",
    "        return dh\n",
    "    \n",
    "    \n",
    "    def generator(self,dt,IC = 0):\n",
    "        self.h = IC\n",
    "        while True:\n",
    "            t, self.qin, self.qout = yield float(self.h)\n",
    "            self.h = odeint(self.deriv,self.h,[t,t+dt])[-1]\n",
    "            self.log_data(t = t, qout = self.qout, h = float(self.h))\n",
    "            t += dt\n",
    "            \n",
    "    def get_water_level(self):\n",
    "        return self.h\n",
    "        \n",
    "    def get_absolute_water_level(self):\n",
    "        return self.h + self.bottom_height\n",
    "        "
   ]
  },
  {
   "cell_type": "markdown",
   "metadata": {},
   "source": [
    "A careful reader will notice that we made a small trick here, to make things easier, but is not the most accurate from a mathematical perspective. The mass conservation equation was written as:\n",
    "\n",
    "$$\n",
    "\\frac{dh}{dt} = \\frac{q_{in}(t) - q_{out}(t)}{A(h)}\n",
    "$$\n",
    "\n",
    "Pragmatically, it is not correct to take out the term $A(h)$ from the differential term $\\frac{dh}{dt}$, since the area is a function of the level. Still, it should work from a simulation perspective since we integrate the problem using small steps of time, does correcting the value of $A$ for small variations of $h$. We will see how this works with an analytical solution, so any problem will clearly arise."
   ]
  },
  {
   "cell_type": "markdown",
   "metadata": {},
   "source": [
    "## A simple test, with analytical solution"
   ]
  },
  {
   "cell_type": "markdown",
   "metadata": {},
   "source": [
    "To test if our implementation is good, it is always useful to make a comparison against some analytical, exact solution. Coming back to the mass conservation:\n",
    "\n",
    "$$\n",
    "\\frac{d(h A(h))}{dt} = q_{in}(t) - q_{out}(t)\n",
    "$$\n",
    "\n",
    "Let's consider a very simple lake in the form of a cube. Thus, the cross section area is constant, say equal to 1.\n",
    "\n",
    "$$\n",
    "A = 1\n",
    "$$\n",
    "\n",
    "Since $A \\neq A(t)$, the equation simplifies to:\n",
    "\n",
    "$$\n",
    "\\frac{dh}{dt} = q_{in}(t) - q_{out}(t)\n",
    "$$\n",
    "\n",
    "Say the outlet is regulated by a pump, with a constant flow rate of $q_{out}$, and the inflow is a sinusoidal flow with the shape, provided by a pump.\n",
    "\n",
    "$$\n",
    "q_{in}(t) = A + B\\sin\\frac{\\pi t}{C}\n",
    "$$\n",
    "\n",
    "$$\n",
    "\\frac{dh}{dt} = A + B\\sin\\frac{\\pi t}{C} - q_{out}\n",
    "$$\n",
    "\n",
    "Call $A^{*} = A - q_{out}$\n",
    "\n",
    "$$\n",
    "\\frac{dh}{dt} = A^{*} + B\\sin\\frac{\\pi t}{C}\n",
    "$$\n",
    "\n",
    "Integrate it.\n",
    "\n",
    "$$\n",
    "\\int dh = \\int \\left(A^{*} + B\\sin \\left( \\frac{\\pi t}{C} \\right)\\right) dt\n",
    "$$\n",
    "\n",
    "$$\n",
    "h = A^{*}t - \\frac{B C}{\\pi} \\cos \\left( \\frac{\\pi t}{C} \\right) + \\text{Const}\n",
    "$$\n",
    "\n",
    "Which gives us the general solution to this problem. Now let's fix some numerical values for simulation.\n",
    "+ $q_{out} = 5$\n",
    "+ $A = 5$\n",
    "+ $B = 2$\n",
    "+ $C=1$\n",
    "\n",
    "$$\n",
    "h = - \\frac{2}{\\pi} \\cos \\left( \\pi t \\right) + \\text{Const}\n",
    "$$\n",
    "\n",
    "Apply initial condition $t = 0$, $h_0 = 0$\n",
    "\n",
    "$$\n",
    "\\text{Const} = \\frac{2}{\\pi}\n",
    "$$\n",
    "\n",
    "The final analytical solution is,\n",
    "\n",
    "$$\n",
    "h = - \\frac{2}{\\pi} \\cos \\left( \\pi t \\right) + \\frac{2}{\\pi}\n",
    "$$\n",
    "\n",
    "Now let's implement the code in Python and compare the solutions\n"
   ]
  },
  {
   "cell_type": "code",
   "execution_count": 133,
   "metadata": {},
   "outputs": [
    {
     "data": {
      "image/png": "[encoded data removed]",
      "text/plain": [
       "<Figure size 432x288 with 1 Axes>"
      ]
     },
     "metadata": {
      "needs_background": "light"
     },
     "output_type": "display_data"
    }
   ],
   "source": [
    "# basic sample time\n",
    "dt = 0.01\n",
    "\n",
    "# create and initialize lake\n",
    "name_lake = 'lake 1'\n",
    "Area = lambda h: 1\n",
    "IC = 0\n",
    "lake_obj = Lake(name = name_lake, A = Area)\n",
    "lake = lake_obj.generator(dt, IC)\n",
    "lake.send(None)\n",
    "\n",
    "# create and initialize pump inlet\n",
    "name_pump1 = 'pump 1'\n",
    "A = 5\n",
    "B = 2\n",
    "C = 1\n",
    "u_pump1 = lambda t: A + B *np.sin(np.pi * t/ C)\n",
    "pump1_obj = Pump_Turbine(name = name_pump1, K = -1, u = u_pump1)\n",
    "pump1 = pump1_obj.generator(dt)\n",
    "pump1.send(None)\n",
    "\n",
    "# create and initialize pump outlet\n",
    "name_pump2 = 'pump 2'\n",
    "u_pump2 = lambda t: 5 \n",
    "pump2_obj = Pump_Turbine(name = name_pump2, K = -1, u = u_pump2)\n",
    "pump2 = pump2_obj.generator(dt)\n",
    "pump2.send(None)\n",
    "\n",
    "for t in np.arange(0,20,dt):\n",
    "    qin = pump1.send((t, 0, lake_obj.h))\n",
    "    qout = pump2.send((t, lake_obj.h, 100))\n",
    "    h1 = lake.send((t, qin, qout))\n",
    "\n",
    "plt.figure()\n",
    "lake_obj.plot()\n",
    "plt.grid()"
   ]
  },
  {
   "cell_type": "code",
   "execution_count": 134,
   "metadata": {},
   "outputs": [
    {
     "data": {
      "text/plain": [
       "<matplotlib.legend.Legend at 0x27442103b50>"
      ]
     },
     "execution_count": 134,
     "metadata": {},
     "output_type": "execute_result"
    },
    {
     "data": {
      "image/png": "[encoded data removed]",
      "text/plain": [
       "<Figure size 432x288 with 1 Axes>"
      ]
     },
     "metadata": {
      "needs_background": "light"
     },
     "output_type": "display_data"
    }
   ],
   "source": [
    "t = lake_obj._log['t']\n",
    "qout = lake_obj._log['qout']\n",
    "h = lake_obj._log['h']\n",
    "\n",
    "h_analytic = lambda t: - 2/np.pi * np.cos(np.pi* np.asarray(t) ) + 2/np.pi\n",
    "\n",
    "plt.figure()\n",
    "plt.plot(t[::10], h_analytic(t)[::10], label = 'analytic', color = 'r', marker = 'o', linestyle=\"\")\n",
    "plt.plot(t, h, label = 'numeric', color = 'b')\n",
    "plt.xlim([0.0, 2.5])\n",
    "plt.grid()\n",
    "plt.legend()\n"
   ]
  },
  {
   "cell_type": "markdown",
   "metadata": {},
   "source": [
    "### Another simple test, with variable cross-section"
   ]
  },
  {
   "cell_type": "markdown",
   "metadata": {},
   "source": [
    "Let's perform a similar analysis, as the one shown above, but now using a lake which has a variable cross-section area. Say that the cross-section area follows the pattern below:\n",
    "\n",
    "$$\n",
    "A(h) = E h^2\n",
    "$$\n",
    "\n",
    "Where $E$ is a constant value. Let's perform the same analytic integration process that was done above.\n",
    "\n",
    "$$\n",
    "\\frac{(E h^2)dh}{dt} = A^{*} + B\\sin\\frac{\\pi t}{C}\n",
    "$$\n",
    "\n",
    "Integrate it.\n",
    "\n",
    "$$\n",
    "\\int (E h^2)dh = \\int \\left(A^{*} + B\\sin \\left( \\frac{\\pi t}{C} \\right)\\right) dt\n",
    "$$\n",
    "\n",
    "$$\n",
    "h = \\left[ \\frac{3}{E}A^{*}t - \\frac{3}{E}\\frac{B C}{\\pi} \\cos \\left( \\frac{\\pi t}{C} \\right) + \\text{Const} \\right]^{\\frac{1}{3}}\n",
    "$$\n",
    "\n",
    "Which gives us the general solution to this problem. Now let's fix some numerical values for simulation.\n",
    "+ $q_{out} = 5$\n",
    "+ $A = 5$\n",
    "+ $B = 2$\n",
    "+ $C=1$\n",
    "+ $E=1$\n",
    "\n",
    "$$\n",
    "h = \\left[ \\frac{3}{E}A^{*}t - \\frac{3}{E}\\frac{B C}{\\pi} \\cos \\left( \\frac{\\pi t}{C} \\right) + \\text{Const} \\right]^{\\frac{1}{3}}\n",
    "$$\n",
    "\n",
    "Apply initial condition $t = 0$, $h_0 = 0$\n",
    "\n",
    "$$\n",
    "0 = \\left[- \\frac{3}{E}\\frac{B C}{\\pi} + \\text{Const} \\right]^{\\frac{1}{3}}\n",
    "$$\n",
    "\n",
    "Substituting the values here we find that,\n",
    "\n",
    "$$\n",
    "\\text{Const} \\approx 1.91\n",
    "$$\n",
    "\n",
    "The final analytical solution is,\n",
    "\n",
    "$$\n",
    "h = \\left[ - 3\\frac{2}{\\pi} \\cos \\left(\\pi t \\right) + 1.91 \\right]^{\\frac{1}{3}}\n",
    "$$\n",
    "\n",
    "Now let's implement the code in Python and compare the solutions. For the computational approach, we have to initialize the lake with the level slight above 0, since when $h=0$, $A(h) = 0$, and since $A$ becomes a denominator in the mass conservation equation, then it would cause an indefinite solution. This naturally brings error, but we can investigate it and maybe refine the model to make it more robust for such case.\n",
    "\n"
   ]
  },
  {
   "cell_type": "code",
   "execution_count": 143,
   "metadata": {},
   "outputs": [
    {
     "name": "stderr",
     "output_type": "stream",
     "text": [
      "c:\\users\\eruss\\appdata\\local\\programs\\python\\python38\\lib\\site-packages\\scipy\\integrate\\odepack.py:248: ODEintWarning: Excess work done on this call (perhaps wrong Dfun type). Run with full_output = 1 to get quantitative information.\n",
      "  warnings.warn(warning_msg, ODEintWarning)\n"
     ]
    },
    {
     "data": {
      "image/png": "[encoded data removed]",
      "text/plain": [
       "<Figure size 432x288 with 1 Axes>"
      ]
     },
     "metadata": {
      "needs_background": "light"
     },
     "output_type": "display_data"
    }
   ],
   "source": [
    "# basic sample time\n",
    "dt = 0.01\n",
    "\n",
    "# create and initialize lake\n",
    "name_lake = 'lake 1'\n",
    "Area = lambda h: h**2\n",
    "IC = 1e-5\n",
    "lake_obj = Lake(name = name_lake, A = Area)\n",
    "lake = lake_obj.generator(dt, IC)\n",
    "lake.send(None)\n",
    "\n",
    "# create and initialize pump inlet\n",
    "name_pump1 = 'pump 1'\n",
    "A = 5\n",
    "B = 2\n",
    "C = 1\n",
    "u_pump1 = lambda t: A + B *np.sin(np.pi * t/ C)\n",
    "pump1_obj = Pump_Turbine(name = name_pump1, K = -1, u = u_pump1)\n",
    "pump1 = pump1_obj.generator(dt)\n",
    "pump1.send(None)\n",
    "\n",
    "# create and initialize pump outlet\n",
    "name_pump2 = 'pump 2'\n",
    "u_pump2 = lambda t: 5\n",
    "pump2_obj = Pump_Turbine(name = name_pump2, K = -1, u = u_pump2)\n",
    "pump2 = pump2_obj.generator(dt)\n",
    "pump2.send(None)\n",
    "\n",
    "for t in np.arange(0,20,dt):\n",
    "    qin = pump1.send((t, 0, lake_obj.h))\n",
    "    qout = pump2.send((t, lake_obj.h, 100))\n",
    "    h1 = lake.send((t, qin, qout))\n",
    "\n",
    "plt.figure()\n",
    "lake_obj.plot()\n",
    "plt.grid()"
   ]
  },
  {
   "cell_type": "code",
   "execution_count": 144,
   "metadata": {},
   "outputs": [
    {
     "data": {
      "text/plain": [
       "<matplotlib.legend.Legend at 0x2744329ebe0>"
      ]
     },
     "execution_count": 144,
     "metadata": {},
     "output_type": "execute_result"
    },
    {
     "data": {
      "image/png": "[encoded data removed]",
      "text/plain": [
       "<Figure size 432x288 with 1 Axes>"
      ]
     },
     "metadata": {
      "needs_background": "light"
     },
     "output_type": "display_data"
    }
   ],
   "source": [
    "t = lake_obj._log['t']\n",
    "qout = lake_obj._log['qout']\n",
    "h = lake_obj._log['h']\n",
    "\n",
    "t = np.arange(0,20,0.01)\n",
    "h_analytic = lambda t: (-3* 2/np.pi * np.cos(np.pi* np.asarray(t) ) + 1.91)**(1/3)\n",
    "\n",
    "plt.figure()\n",
    "plt.plot(t[::10], h_analytic(t)[::10], label = 'analytic', color = 'r', marker = 'o', linestyle=\"\")\n",
    "plt.plot(t, h, label = 'numeric', color = 'b')\n",
    "plt.xlim([0.0, 2.5])\n",
    "plt.grid()\n",
    "plt.legend()\n"
   ]
  },
  {
   "cell_type": "markdown",
   "metadata": {},
   "source": [
    "It can be seen from these results that the trick used in the mass conservation approach does not cause much issue, and the results look quite reasonable.\n",
    "\n",
    "In the next post, we will see how to model the reaches using the De Saint Venant Equations. I see you in the next post."
   ]
  },
  {
   "cell_type": "code",
   "execution_count": null,
   "metadata": {},
   "outputs": [],
   "source": []
  }
 ],
 "metadata": {
  "kernelspec": {
   "display_name": "Python 3",
   "language": "python",
   "name": "python3"
  },
  "language_info": {
   "codemirror_mode": {
    "name": "ipython",
    "version": 3
   },
   "file_extension": ".py",
   "mimetype": "text/x-python",
   "name": "python",
   "nbconvert_exporter": "python",
   "pygments_lexer": "ipython3",
   "version": "3.8.6"
  }
 },
 "nbformat": 4,
 "nbformat_minor": 4
}

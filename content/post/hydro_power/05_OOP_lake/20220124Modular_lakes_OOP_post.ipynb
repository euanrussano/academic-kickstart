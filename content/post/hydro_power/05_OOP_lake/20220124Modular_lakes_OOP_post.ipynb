{
 "cells": [
  {
   "cell_type": "markdown",
   "metadata": {
    "id": "eJbo1_wRlOQF"
   },
   "source": [
    "---\n",
    "# Documentation: [Managing content | Academic](https://sourcethemes.com/academic/docs/managing-content/)\n",
    "\n",
    "title: \"Modelling, Simulation and Control of Hydro-Power System - Part 5\"\n",
    "subtitle: \"Improving the DAE approach using OOP with Python\"\n",
    "summary: \"In this series I will show the entire process of developing a model, performing simulations and the use of different control techniques for decision support in flood management systems.\"\n",
    "authors: []\n",
    "tags: [\"Flood Forecasting\", \"Model Predictive Control\"]\n",
    "categories: [\"Flood Management\"]\n",
    "date: 2022-01-24T10:01:00\n",
    "lastmod: 2022-01-28T10:01:00\n",
    "featured: false\n",
    "draft: false\n",
    "\n",
    "# Featured image\n",
    "\n",
    "# To use, add an image named `featured.jpg/png` to your page's folder.\n",
    "\n",
    "# Focal points: Smart, Center, TopLeft, Top, TopRight, Left, Right, BottomLeft, Bottom, BottomRight.\n",
    "\n",
    "image:\n",
    " caption: \"Image by <a href='https://pixabay.com/users/russmac-756431/?utm_source=link-attribution&amp;utm_medium=referral&amp;utm_campaign=image&amp;utm_content=929406'>Russ McElroy</a> from <a href='https://pixabay.com/?utm_source=link-attribution&amp;utm_medium=referral&amp;utm_campaign=image&amp;utm_content=929406'>Pixabay</a>\"\n",
    " focal_point: \"Smart\"\n",
    " preview_only: false\n",
    "\n",
    "# Projects (optional).\n",
    "\n",
    "# Associate this post with one or more of your projects.\n",
    "\n",
    "# Simply enter your project's folder or file name without extension.\n",
    "\n",
    "# E.g. `projects = [\"internal-project\"]` references `content/project/deep-learning/index.md`.\n",
    "\n",
    "# Otherwise, set `projects = []`.\n",
    "\n",
    "projects: [\"Modelling, Simulation and Control of Hydro-power system\"]\n",
    "---\n",
    "\n",
    "# Improving modularity of the lakes using Object Oriented Programming (OOP)\n",
    "\n",
    "In the previous post I went through the steps of a \"basic\" implementation of the dynamics of the lakes using DAE approach. Using that working code, we can improve its modularity and reusability to implement series of lakes without repeting the basic code. With that we avoid incorporating small mistakes and also keep a clean, concise code that can be better reused and extended.\n",
    "\n",
    "When it comes to a final design the components, there is no single, exact and perfect solution. There are multiple solutions that work, some may be better than others but all depends on the application and the required versatility and extensibility of the program.\n",
    "\n",
    "To get a better idea of what I need, I will take into consideration a complete case provided by Petrone (2010), who developed a MPC for a hydro power valley consisting of 5 lakes and 4 section (reaches) of a river, with a tributary on the last section. The figure below illustrates this system:\n",
    "\n",
    "![HydroPowerValley.png](https://drive.google.com/uc?export=view&id=15xzojtJ9pU0mmzcG0UiYCqVbL28RX4tf)\n",
    "\n",
    "Figure 1- Hydro Power Valley System (Petrone, 2010). Figure from Euan Russano - Own work\n",
    "\n",
    "This shows some basic principles to be followed:\n",
    "- Physical \"objects\" (lakes, valves, turbines, etc) should be represented by objects in the code.\n",
    "- The design follows a kind of Composite Pattern (if you don't know what I'm talking about it, please see [here](https://en.wikipedia.org/wiki/Composite_pattern))\n",
    "- Each \"object\" should have some kind of \"port\" so it is possible to connect one to another. For example, the outflow of Lake 1 is connected to the inflow of the valve, so that $q_{out}^{lake1} = q_{in}^{valve}$\n",
    "- The composition of the model should be very extensive, such that I can have an object \"lake 1\", which together with a valve is contained in a component \"P1\", which in turn is contained in the one entity of the model.\n",
    "\n",
    "Once I setup the model, I may use it to do some simulations or leave some degree of freedom in certain variables to proform optimizations. In this sense, I also make a separation between the model itself and the kind of problem.\n",
    "In OOP:\n",
    "+ The entire model is one object, which I can have several copies of it during the execution of a program.\n",
    "+ The specific problem being solved (simulation or optimization) is a higher-level object, which may \"contain\" an instance of the model and it is run according a specific configuration.\n",
    "\n",
    "Using the Composite Pattern, the structure of the model shown in Figure 1 could be represented as follows.\n",
    "\n",
    "![CompositeRepresentation.png](https://drive.google.com/uc?export=view&id=1YHv40g2DZu-vm48IbJs0mZtXeVMJzYX-)\n",
    "\n",
    "Figure 2- Composite structure of Hydro Power Valley System. Figure from Euan Russano - Own work\n",
    "\n",
    "Figure 3 shows the internal structure of some basic blocks.\n",
    "\n",
    "![BlockRepresentation.png](https://drive.google.com/uc?export=view&id=1qBcyUhoiqOHlXtZ0DJygYIPLfJ00WNxD)\n",
    "\n",
    "Figure 3- Internal representation of some blocks in the Hydro Power Valley System. Figure from Euan Russano - Own work\n",
    "\n",
    "This Figure introduces some other objects that are part of the system: variable, constraint, parameter and port\n",
    "\n",
    "\n",
    "\n",
    "\n"
   ]
  },
  {
   "cell_type": "markdown",
   "metadata": {
    "id": "H_dwNrleVqWV"
   },
   "source": [
    "# Implementation of the design using Python"
   ]
  },
  {
   "cell_type": "code",
   "execution_count": 3,
   "metadata": {
    "id": "_eW58bhClGri"
   },
   "outputs": [],
   "source": [
    "# imports\n",
    "import numpy as np\n",
    "import matplotlib.pyplot as plt\n",
    "from scipy.optimize import minimize"
   ]
  },
  {
   "cell_type": "markdown",
   "metadata": {
    "id": "R6hW6csCmdC0"
   },
   "source": [
    "Definition of the class Variable, which represents one variable in the optimization/simulation problem is as follows:"
   ]
  },
  {
   "cell_type": "code",
   "execution_count": 4,
   "metadata": {
    "id": "XjzmzuGdmBTe"
   },
   "outputs": [],
   "source": [
    "class Variable:\n",
    "    def __init__(self, index_var=[0], bounds=(None, None)):\n",
    "        self.value = [100] * len(index_var)\n",
    "        # create array of Nones with 2 None for each variable\n",
    "        self.bounds = [(None, None) for i in range(len(index_var))]\n",
    "\n",
    "\n",
    "    def get_bounds(self):\n",
    "        return self.bounds\n",
    "    \n",
    "    def  __setitem__(self, key, item):\n",
    "        '''\n",
    "        This method is used to set a bound on a index of the variable\n",
    "        e.g height[0] = 0.0\n",
    "        '''\n",
    "        # specify a single value or (min, max) for as a constraint for an\n",
    "        # indexed var\n",
    "        if isinstance(item, float) or isinstance(item, int):\n",
    "            self.bounds[key] = (item, item)\n",
    "        elif isinstance(item, tuple):\n",
    "            self.bounds[key] = item\n",
    "        else:\n",
    "            raise ValueError('Only tuple or numeric values are allowed as bounds.')\n",
    "\n",
    "\n",
    "    def set_value(self, x):\n",
    "        self.value = x\n",
    "\n",
    "    def __call__(self):\n",
    "        return self.value"
   ]
  },
  {
   "cell_type": "markdown",
   "metadata": {
    "id": "TzHvy6MmnDqH"
   },
   "source": [
    "The definition of the constraint object, representing a hard constraint in the optimization/ simulation problem. Its definition follows the residual format, i.e $f(x,t)=0$"
   ]
  },
  {
   "cell_type": "code",
   "execution_count": 5,
   "metadata": {
    "id": "67RfwpL8nB_p"
   },
   "outputs": [],
   "source": [
    "class Constraint:\n",
    "    def __init__(self, rule, lb=0, ub=0):\n",
    "        self.rule = rule\n",
    "        self.ub = lb\n",
    "        self.lb = ub\n",
    "    \n",
    "    def __call__(self, model):\n",
    "        return self.rule(model)"
   ]
  },
  {
   "cell_type": "markdown",
   "metadata": {
    "id": "MpBk33QB4dDN"
   },
   "source": [
    "The Block represents the basic representation of a physical system."
   ]
  },
  {
   "cell_type": "code",
   "execution_count": 6,
   "metadata": {
    "id": "43poMGRE3JVE"
   },
   "outputs": [],
   "source": [
    "class Block:\n",
    "    def __init__(self):\n",
    "        self.variables = []\n",
    "        self.constraints = []\n",
    "        self.parent = None\n",
    "        self.time = None\n",
    "\n",
    "    def set_parent(self, parent):\n",
    "        self.parent = parent\n",
    "    \n",
    "    def __setattr__(self, name, value):\n",
    "        if isinstance(value, Variable):\n",
    "            super().__setattr__(name, value)\n",
    "            self.variables.append(value)\n",
    "        elif isinstance(value, Constraint):\n",
    "            self.add_cons( value, value.lb, value.ub)\n",
    "        else:\n",
    "            super().__setattr__(name, value)\n",
    "\n",
    "    def change_inputs(self, x):\n",
    "        self.parent.change_inputs(x)\n",
    "\n",
    "    def add_cons(self, constraint, lb=0, ub=0):\n",
    "\n",
    "        def cons(x):\n",
    "            self.change_inputs(x)\n",
    "            return constraint(self)\n",
    "\n",
    "        self.constraints.append( {'type': 'eq', 'fun': cons} ) # \n"
   ]
  },
  {
   "cell_type": "markdown",
   "metadata": {
    "id": "3gjtnbbM40MW"
   },
   "source": [
    "The Composite class represents the higher-level blocks, which contains one or several blocks or also other composite blocks."
   ]
  },
  {
   "cell_type": "code",
   "execution_count": 46,
   "metadata": {
    "id": "xtPHDcFw4zpP"
   },
   "outputs": [],
   "source": [
    "class Composite:\n",
    "    def __init__(self):\n",
    "        self.variables = []\n",
    "        self.constraints = []\n",
    "        self.time = [0]\n",
    "        self.parent=None\n",
    "\n",
    "    def __setattr__(self, name, value):\n",
    "        if isinstance(value, Block):\n",
    "            block = value\n",
    "            for variable in block.variables:\n",
    "                self.variables.append(variable)\n",
    "            for constraint in block.constraints:\n",
    "                self.constraints.append(constraint)\n",
    "            block.set_parent(self)\n",
    "            block.time = self.time        \n",
    "        super().__setattr__(name, value)\n",
    "\n",
    "    def change_inputs(self, x):\n",
    "        # if this is not a root block, then call recursively the parent until it reaches the root node\n",
    "        if self.parent:\n",
    "            self.parent.change_inputs(x)\n",
    "        else: # this is the root node\n",
    "            curr_index = 0\n",
    "            for variable in self.variables:\n",
    "                variable.set_value(x[curr_index:curr_index+len(variable.value)])\n",
    "                curr_index += len(variable.value)\n",
    "    \n",
    "    def get_initial_guess(self):\n",
    "        if self.parent:\n",
    "            self.parent.get_initial_guess()\n",
    "        else: # this is the root node\n",
    "            xGuess = []\n",
    "            for variable in self.variables:\n",
    "                xGuess.extend(variable.value)\n",
    "\n",
    "        return xGuess\n",
    "\n",
    "    def get_bounds(self):\n",
    "        # collect the bounds for all variables\n",
    "        bnds = []\n",
    "        for variable in self.variables:\n",
    "            bnds.extend( variable.get_bounds() ) \n",
    "\n",
    "        return bnds\n",
    "    \n",
    "    def get_constraints(self):\n",
    "        return self.constraints\n",
    "\n",
    "    def connect(self, inport, outport):\n",
    "        inport.set_variable(outport.get_variable())\n",
    "            "
   ]
  },
  {
   "cell_type": "markdown",
   "metadata": {
    "id": "0qP_TVP5-pZY"
   },
   "source": [
    "Define classes for the ports, which connects different blocks"
   ]
  },
  {
   "cell_type": "code",
   "execution_count": 47,
   "metadata": {
    "id": "rXLszjVZ-xdf"
   },
   "outputs": [],
   "source": [
    "class InPort:\n",
    "    def __init__(self):\n",
    "        self.variable = lambda: None\n",
    "\n",
    "    def set_variable(self, variable):\n",
    "        self.variable = variable\n",
    "    \n",
    "    def __call__(self):\n",
    "        return self.variable()\n",
    "\n",
    "class OutPort:\n",
    "    def __init__(self, variable):\n",
    "        self.variable = variable\n",
    "    \n",
    "    def get_variable(self):\n",
    "        return self.variable\n",
    "\n",
    "    def __call__(self):\n",
    "        return self.variable()"
   ]
  },
  {
   "cell_type": "markdown",
   "metadata": {
    "id": "HWzg4KGfEiHF"
   },
   "source": [
    "Define a class `SimulationProblem`to handle simulations using the composed model."
   ]
  },
  {
   "cell_type": "code",
   "execution_count": 48,
   "metadata": {
    "id": "0EVUd13cEpSd"
   },
   "outputs": [],
   "source": [
    "class SimulationProblem:\n",
    "    \n",
    "    def __init__(self, model):\n",
    "        self.model = model\n",
    "    \n",
    "    def run(self, verbose = False):\n",
    "        obj = lambda x: 0.0\n",
    "        xGuess = self.model.get_initial_guess()\n",
    "        bnds = self.model.get_bounds()\n",
    "        cons = self.model.get_constraints()\n",
    "        res = minimize(obj, xGuess, method='SLSQP',bounds=bnds, constraints=cons)\n",
    "        if verbose:\n",
    "            print(res)\n",
    "        return res"
   ]
  },
  {
   "cell_type": "markdown",
   "metadata": {
    "id": "9CEvzxW63Vd2"
   },
   "source": [
    "# Testing the design with basic examples\n"
   ]
  },
  {
   "cell_type": "markdown",
   "metadata": {
    "id": "cCm8atXlBSJf"
   },
   "source": [
    "### Non-linear system of equations\n",
    "\n",
    "Example obtained from [APMonitor](https://apmonitor.com/wiki/index.php/Main/GekkoPythonOptimization).\n",
    "\n",
    "$$\n",
    "\\begin{align}\n",
    "x + 2y &= 0 \\\\\n",
    "x^2 + y^2 &= 1 \\\\\n",
    "\\end{align}\n",
    "$$"
   ]
  },
  {
   "cell_type": "code",
   "execution_count": 49,
   "metadata": {
    "colab": {
     "base_uri": "https://localhost:8080/"
    },
    "id": "HAAzkZ0D9Ydx",
    "outputId": "7e8a13a2-e071-4864-968b-628509f46e9c"
   },
   "outputs": [
    {
     "name": "stdout",
     "output_type": "stream",
     "text": [
      "x  =  [0.89442721]\n",
      "y  =  [-0.44721361]\n"
     ]
    }
   ],
   "source": [
    "model = Composite()\n",
    "sys1 = Block()\n",
    "sys2 = Block()\n",
    "\n",
    "sys1.x = Variable()      \n",
    "sys2.y = Variable()\n",
    "\n",
    "sys1.inport_y = InPort()\n",
    "sys1.outport_x = OutPort(sys1.x)\n",
    "\n",
    "sys2.inport_x = InPort()\n",
    "sys2.outport_y = OutPort(sys2.y)\n",
    "\n",
    "\n",
    "def eq1(block):\n",
    "    x = block.x()\n",
    "    y = block.inport_y()\n",
    "    return x + 2*y - 0\n",
    "sys1.eq1 = Constraint(eq1 )\n",
    "\n",
    "def eq2(block):\n",
    "    x = block.inport_x()\n",
    "    y = block.y()\n",
    "    return x**2+y**2-1\n",
    "sys2.eq1 = Constraint(eq2)\n",
    "\n",
    "model.sys1 = sys1\n",
    "model.sys2 = sys2\n",
    "model.connect(sys1.inport_y, sys2.outport_y)\n",
    "model.connect(sys2.inport_x, sys1.outport_x)\n",
    "\n",
    "sim = SimulationProblem(model)\n",
    "result = sim.run()\n",
    "\n",
    "model.change_inputs(result.x)\n",
    "print('x  = ', model.sys1.x())\n",
    "print('y  = ', model.sys2.y())\n"
   ]
  },
  {
   "cell_type": "markdown",
   "metadata": {
    "id": "b-XEnBZBBqOl"
   },
   "source": [
    "### Solving a simple differential equation\n",
    "\n",
    "Example obtained from [APMonitor](https://apmonitor.com/wiki/index.php/Main/GekkoPythonOptimization).\n",
    "$$\n",
    "k\\frac{dy}{dt}=-ty\n",
    "$$\n",
    "\n",
    "Initial condition:\n",
    "$y(0)=5.0$"
   ]
  },
  {
   "cell_type": "code",
   "execution_count": 50,
   "metadata": {
    "colab": {
     "base_uri": "https://localhost:8080/",
     "height": 282
    },
    "id": "rfgmGfoS_4QV",
    "outputId": "bda8e089-8d85-4153-9481-6d465fccbf51"
   },
   "outputs": [
    {
     "data": {
      "text/plain": [
       "[<matplotlib.lines.Line2D at 0x7f1b6dc31950>]"
      ]
     },
     "execution_count": 50,
     "metadata": {},
     "output_type": "execute_result"
    },
    {
     "data": {
      "image/png": "[encoded data removed]",
      "text/plain": [
       "<Figure size 432x288 with 1 Axes>"
      ]
     },
     "metadata": {
      "needs_background": "light"
     },
     "output_type": "display_data"
    }
   ],
   "source": [
    "model = Composite()\n",
    "model.time = np.linspace(0,20,100)\n",
    "sys1 = Block()\n",
    "\n",
    "sys1.k = 10\n",
    "sys1.y = Variable(model.time)\n",
    "\n",
    "sys1.y[0] = 5.0\n",
    "\n",
    "def eq1(block):\n",
    "    dydt = (block.y()[1:] - block.y()[:-1])/np.diff(block.time)\n",
    "    return block.k*dydt+block.time[1:]*block.y()[1:]\n",
    "sys1.eq1 = Constraint(eq1 )\n",
    "\n",
    "\n",
    "model.sys1 = sys1\n",
    "\n",
    "sim = SimulationProblem(model)\n",
    "result = sim.run()\n",
    "\n",
    "model.change_inputs(result.x)\n",
    "plt.plot(model.time, model.sys1.y())"
   ]
  },
  {
   "cell_type": "markdown",
   "metadata": {
    "id": "zbP8xyKE5Zua"
   },
   "source": [
    "## Draining tank (same example from part 4 of this series)"
   ]
  },
  {
   "cell_type": "code",
   "execution_count": 51,
   "metadata": {
    "colab": {
     "base_uri": "https://localhost:8080/",
     "height": 296
    },
    "id": "wxuPUFcw3XMd",
    "outputId": "bdc8b871-0d4c-495f-ac4b-cce8d61f2e6e"
   },
   "outputs": [
    {
     "name": "stderr",
     "output_type": "stream",
     "text": [
      "/usr/local/lib/python3.7/dist-packages/ipykernel_launcher.py:51: RuntimeWarning: invalid value encountered in sqrt\n"
     ]
    },
    {
     "data": {
      "image/png": "[encoded data removed]",
      "text/plain": [
       "<Figure size 432x288 with 1 Axes>"
      ]
     },
     "metadata": {
      "needs_background": "light"
     },
     "output_type": "display_data"
    }
   ],
   "source": [
    "# some constants\n",
    "RHO = 1000 # kg/m3 density of water\n",
    "c = 0.62\n",
    "g = 9.81\n",
    "A = 16\n",
    "A_orifice = 5e-4\n",
    "m0 = 10*A*RHO\n",
    "\n",
    "model = Composite()\n",
    "model.time = np.linspace(0, 8e4, 50)\n",
    "\n",
    "# tank model\n",
    "tank1 = Block()\n",
    "tank1.inport_inflow = InPort()\n",
    "tank1.inport_outflow = InPort()\n",
    "tank1.mass = Variable(model.time)\n",
    "tank1.height = Variable(model.time)\n",
    "tank1.outport_height = OutPort(tank1.height)\n",
    "tank1.area = A\n",
    "\n",
    "tank1.mass[0] = m0 # initial condition\n",
    "\n",
    "def mass_balance(block):\n",
    "    dmdt = np.diff(block.mass())/np.diff(block.time)\n",
    "    inflow = block.inport_inflow()\n",
    "    outflow = block.inport_outflow()\n",
    "    if inflow is None:\n",
    "        inflow = np.zeros_like(block.time)\n",
    "    if outflow is None:\n",
    "        outflow = np.zeros_like(block.time)\n",
    "    resid = dmdt - (inflow[1:] - outflow[1:])\n",
    "    return resid\n",
    "\n",
    "tank1.mass_balance = Constraint(mass_balance)\n",
    "\n",
    "def volume_height(block):\n",
    "    resid = block.mass() - block.area*RHO*block.height()\n",
    "    return resid\n",
    "\n",
    "tank1.volume_height = Constraint(volume_height)\n",
    "\n",
    "# orifice model\n",
    "orifice = Block()\n",
    "orifice.mass_flow_rate = Variable(model.time)\n",
    "orifice.outport_flow = OutPort(orifice.mass_flow_rate)\n",
    "orifice.inport_head = InPort()\n",
    "orifice.area = A_orifice\n",
    "\n",
    "def outflow(block):\n",
    "    h = block.inport_head()\n",
    "    resid = block.mass_flow_rate() - RHO*block.area*c*np.sqrt(2*g*h)\n",
    "\n",
    "    return resid\n",
    "\n",
    "orifice.mech_energy = Constraint(outflow)\n",
    "\n",
    "model.tank1 = tank1\n",
    "model.orifice = orifice\n",
    "model.connect(tank1.inport_outflow, orifice.outport_flow)\n",
    "model.connect(orifice.inport_head, tank1.outport_height)\n",
    "\n",
    "sim = SimulationProblem(model)\n",
    "result = sim.run()\n",
    "\n",
    "model.change_inputs(result.x)\n",
    "plt.plot(model.time, model.tank1.height(), 'bo', label='scipy');\n",
    "plt.xlabel('time (s)')\n",
    "plt.ylabel('height (m)')\n",
    "plt.legend()\n",
    "plt.grid();"
   ]
  },
  {
   "cell_type": "markdown",
   "metadata": {
    "id": "mM63HBfhCyjK"
   },
   "source": [
    "Compare the simulated results with the analytical (exact) one to confirm that all is working as expected."
   ]
  },
  {
   "cell_type": "code",
   "execution_count": 55,
   "metadata": {
    "colab": {
     "base_uri": "https://localhost:8080/",
     "height": 295
    },
    "id": "lvhVfFIgC5bq",
    "outputId": "df6d8053-ef69-43e5-aada-0ee394db7a28"
   },
   "outputs": [
    {
     "data": {
      "image/png": "[encoded data removed]",
      "text/plain": [
       "<Figure size 432x288 with 1 Axes>"
      ]
     },
     "metadata": {
      "needs_background": "light"
     },
     "output_type": "display_data"
    }
   ],
   "source": [
    "def case1_exact(t):\n",
    "    A_orifice = 5e-4\n",
    "    A = 16.0\n",
    "    h0 = 10.0\n",
    "    t0 = 0.0\n",
    "    c = 0.62\n",
    "    g = 9.81\n",
    "\n",
    "    h = (np.sqrt(h0) - A_orifice*c*np.sqrt(2*g)*(t-t0)/(2*A))**2\n",
    "\n",
    "    return h\n",
    "\n",
    "h_exact = case1_exact(model.time)\n",
    "\n",
    "# Mean squared errors\n",
    "MSE = np.mean((model.tank1.height() - h_exact)**2)\n",
    "\n",
    "plt.plot(model.time, model.tank1.height(), 'bo', label='scipy');\n",
    "plt.plot( model.time, case1_exact(model.time),'b', label='exact')\n",
    "plt.xlabel('time (s)')\n",
    "plt.ylabel('height (m)')\n",
    "plt.legend()\n",
    "plt.title(f'Draining tank. MSE = {MSE:.3e}')\n",
    "plt.grid();"
   ]
  },
  {
   "cell_type": "markdown",
   "metadata": {
    "id": "rXFZbiiYDoVB"
   },
   "source": [
    "# Conclusion\n",
    "\n",
    "In this post we have improved the interface of the model by creating classes and using them to hide the internal methods used to perform the simulation. In the next post I want to use inheritance to make the code even more modular and to make it easier to create multiple units with similar physical behavior without repeating the same code. I see you in the next post."
   ]
  }
 ],
 "metadata": {
  "colab": {
   "collapsed_sections": [],
   "name": "20220124Modular lakes OOP post.ipynb",
   "provenance": []
  },
  "kernelspec": {
   "display_name": "Python 3 (ipykernel)",
   "language": "python",
   "name": "python3"
  },
  "language_info": {
   "codemirror_mode": {
    "name": "ipython",
    "version": 3
   },
   "file_extension": ".py",
   "mimetype": "text/x-python",
   "name": "python",
   "nbconvert_exporter": "python",
   "pygments_lexer": "ipython3",
   "version": "3.8.10"
  }
 },
 "nbformat": 4,
 "nbformat_minor": 1
}

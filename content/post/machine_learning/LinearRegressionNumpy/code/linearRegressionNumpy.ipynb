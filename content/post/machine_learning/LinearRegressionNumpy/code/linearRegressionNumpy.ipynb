{
 "cells": [
  {
   "cell_type": "markdown",
   "metadata": {
    "colab_type": "text",
    "id": "UQ9Cw8pMSu8u"
   },
   "source": [
    "# Multivariate Linear Regression in Python with Numpy\n",
    "\n",
    "Welcome to one more tutorial! In the last post (see <a href=\"/20180809linearRegressionScratch/#more\">here</a>) we saw how to do a linear regression on Python using barely no library but native functions (except for visualization).\n",
    "\n",
    "In this exercise, we will see how to implement a linear regression with multiple inputs using Numpy. We will also use the Gradient Descent algorithm to train our model.\n",
    "\n",
    "The first step is to import all the necessary libraries. The ones we will use are:\n",
    "- Numpy - for numerical calculations;\n",
    "- Pandas - to read csv and data processing;\n",
    "- Matplotlib - for visualization"
   ]
  },
  {
   "cell_type": "code",
   "execution_count": 0,
   "metadata": {
    "colab": {},
    "colab_type": "code",
    "id": "GpQjC6oYzgGo"
   },
   "outputs": [],
   "source": [
    "import numpy as np\n",
    "import pandas as pd\n",
    "import matplotlib.pyplot as plt"
   ]
  },
  {
   "cell_type": "markdown",
   "metadata": {
    "colab_type": "text",
    "id": "tHhIs2BNUbq_"
   },
   "source": [
    "Now import the data that we want to work on. This data (hypothetical) consists in the following information from real state properties:\n",
    "- Size (the size of the housing in square meters);\n",
    "- Nr Bedrooms ->  the number of bedrooms;\n",
    "- Nr Bathrooms -> the number of bathrooms\n",
    "- Price -> The price of the house, in terms of thousands of dollars (or any other currency since the data is hypothetical)\n",
    "\n",
    "**Hypothesis**\n",
    "The price is linearly correlated with the size, nr of bedrooms and nr of bathrooms of a housing.\n",
    "\n",
    "We will check validity of the above hypothesis through linear regression.\n",
    "\n",
    " Pandas function `read_csv()` is used to read the csv file 'housingprices.csv' and place it as a dataframe."
   ]
  },
  {
   "cell_type": "code",
   "execution_count": 3,
   "metadata": {
    "colab": {
     "base_uri": "https://localhost:8080/",
     "height": 195
    },
    "colab_type": "code",
    "id": "pibqK2ndzqUv",
    "outputId": "df5e4e94-dea9-44ac-9282-05e83397c299"
   },
   "outputs": [
    {
     "data": {
      "text/html": [
       "<div>\n",
       "<style scoped>\n",
       "    .dataframe tbody tr th:only-of-type {\n",
       "        vertical-align: middle;\n",
       "    }\n",
       "\n",
       "    .dataframe tbody tr th {\n",
       "        vertical-align: top;\n",
       "    }\n",
       "\n",
       "    .dataframe thead th {\n",
       "        text-align: right;\n",
       "    }\n",
       "</style>\n",
       "<table border=\"1\" class=\"dataframe\">\n",
       "  <thead>\n",
       "    <tr style=\"text-align: right;\">\n",
       "      <th></th>\n",
       "      <th>Size</th>\n",
       "      <th>Nr Bedrooms</th>\n",
       "      <th>Nr Bathrooms</th>\n",
       "      <th>Price</th>\n",
       "    </tr>\n",
       "  </thead>\n",
       "  <tbody>\n",
       "    <tr>\n",
       "      <th>0</th>\n",
       "      <td>84</td>\n",
       "      <td>1</td>\n",
       "      <td>1</td>\n",
       "      <td>43.747</td>\n",
       "    </tr>\n",
       "    <tr>\n",
       "      <th>1</th>\n",
       "      <td>45</td>\n",
       "      <td>4</td>\n",
       "      <td>1</td>\n",
       "      <td>30.100</td>\n",
       "    </tr>\n",
       "    <tr>\n",
       "      <th>2</th>\n",
       "      <td>73</td>\n",
       "      <td>1</td>\n",
       "      <td>3</td>\n",
       "      <td>39.481</td>\n",
       "    </tr>\n",
       "    <tr>\n",
       "      <th>3</th>\n",
       "      <td>34</td>\n",
       "      <td>2</td>\n",
       "      <td>3</td>\n",
       "      <td>23.908</td>\n",
       "    </tr>\n",
       "    <tr>\n",
       "      <th>4</th>\n",
       "      <td>31</td>\n",
       "      <td>4</td>\n",
       "      <td>3</td>\n",
       "      <td>24.144</td>\n",
       "    </tr>\n",
       "  </tbody>\n",
       "</table>\n",
       "</div>"
      ],
      "text/plain": [
       "   Size  Nr Bedrooms  Nr Bathrooms   Price\n",
       "0    84            1             1  43.747\n",
       "1    45            4             1  30.100\n",
       "2    73            1             3  39.481\n",
       "3    34            2             3  23.908\n",
       "4    31            4             3  24.144"
      ]
     },
     "execution_count": 3,
     "metadata": {
      "tags": []
     },
     "output_type": "execute_result"
    }
   ],
   "source": [
    "df= pd.read_csv('housingprices.csv')\n",
    "df.head()"
   ]
  },
  {
   "cell_type": "code",
   "execution_count": 4,
   "metadata": {
    "colab": {
     "base_uri": "https://localhost:8080/",
     "height": 34
    },
    "colab_type": "code",
    "id": "16jQsby5z2mS",
    "outputId": "d97157d1-ee47-422e-8a96-49fd12d39ae5"
   },
   "outputs": [
    {
     "name": "stdout",
     "output_type": "stream",
     "text": [
      "Index(['Size', 'Nr Bedrooms', 'Nr Bathrooms', 'Price'], dtype='object')\n"
     ]
    }
   ],
   "source": [
    "print(df.columns)"
   ]
  },
  {
   "cell_type": "markdown",
   "metadata": {
    "colab_type": "text",
    "id": "MOQ2MXGZVO8N"
   },
   "source": [
    "A good practice, before performing any computation, is to check wheter the data contains invalued values (such as NaNs - not a number). This can be done using `pd.isna()` function, which returns a dataframe of True or False values. Since we want to summarize the results for each column initially and know wheter there is AT LEAST one invalid value, we can use the `any()` function, which returns True if there is any invalid number, otherwise False."
   ]
  },
  {
   "cell_type": "code",
   "execution_count": 5,
   "metadata": {
    "colab": {
     "base_uri": "https://localhost:8080/",
     "height": 101
    },
    "colab_type": "code",
    "id": "-EhYjCnMz72D",
    "outputId": "68ef50fa-6650-44c4-f46c-435562d9785c"
   },
   "outputs": [
    {
     "data": {
      "text/plain": [
       "Size            False\n",
       "Nr Bedrooms     False\n",
       "Nr Bathrooms    False\n",
       "Price           False\n",
       "dtype: bool"
      ]
     },
     "execution_count": 5,
     "metadata": {
      "tags": []
     },
     "output_type": "execute_result"
    }
   ],
   "source": [
    "pd.isna(df).any()"
   ]
  },
  {
   "cell_type": "markdown",
   "metadata": {
    "colab_type": "text",
    "id": "4P-mDCSsVx6e"
   },
   "source": [
    "No invalid value was found in the dataframe.\n",
    "\n",
    "Split the dataset into inputs (x) and output(y). Use the method `values` to transform from a DataFrame object to an array object, which can efficiently managed by Numpy library."
   ]
  },
  {
   "cell_type": "code",
   "execution_count": 6,
   "metadata": {
    "colab": {
     "base_uri": "https://localhost:8080/",
     "height": 34
    },
    "colab_type": "code",
    "id": "ludmulkp0AYb",
    "outputId": "e2a06ad0-563f-4b91-8502-f7887f57016b"
   },
   "outputs": [
    {
     "name": "stdout",
     "output_type": "stream",
     "text": [
      "99\n"
     ]
    }
   ],
   "source": [
    "x = df[['Size','Nr Bedrooms','Nr Bathrooms']].values\n",
    "y = df['Price'].values.reshape(-1,1)\n",
    "m = len(y)\n",
    "print(m)"
   ]
  },
  {
   "cell_type": "markdown",
   "metadata": {
    "colab_type": "text",
    "id": "qkkpM-cQWIrv"
   },
   "source": [
    "Let's generate a simple visualization the price in relation to each input variable."
   ]
  },
  {
   "cell_type": "code",
   "execution_count": 7,
   "metadata": {
    "colab": {
     "base_uri": "https://localhost:8080/",
     "height": 286
    },
    "colab_type": "code",
    "id": "fdvXkeW50L8j",
    "outputId": "2cdb5b40-3e09-486a-cace-46606011e6ef"
   },
   "outputs": [
    {
     "data": {
      "text/plain": [
       "[<matplotlib.lines.Line2D at 0x7f428efc30b8>]"
      ]
     },
     "execution_count": 7,
     "metadata": {
      "tags": []
     },
     "output_type": "execute_result"
    },
    {
     "data": {
      "image/png": "[encoded data removed]",
      "text/plain": [
       "<Figure size 432x288 with 4 Axes>"
      ]
     },
     "metadata": {
      "tags": []
     },
     "output_type": "display_data"
    }
   ],
   "source": [
    "fig,axs = plt.subplots(2,2)\n",
    "axs[0, 0].plot(x[:,0],y,'o')\n",
    "axs[0, 1].plot(x[:,1],y,'o')\n",
    "axs[1, 0].plot(x[:,2],y,'o')"
   ]
  },
  {
   "cell_type": "markdown",
   "metadata": {
    "colab_type": "text",
    "id": "G9gEqC2nWugI"
   },
   "source": [
    "Linear correlation can be evaluated through Pearson's coefficient, which returns a value between 0 and 1. 0 means there is no correlation, while 1 means perfect correlation. Everything in betweeen indicates that the data is somehow correlated, though usually a correlation of more than 0.8 is expected for a variable to be considered a predictor, i.e an input to a Machine Learning model."
   ]
  },
  {
   "cell_type": "code",
   "execution_count": 8,
   "metadata": {
    "colab": {
     "base_uri": "https://localhost:8080/",
     "height": 67
    },
    "colab_type": "code",
    "id": "33fF8V9f0T9w",
    "outputId": "1af07804-d0a3-4e4e-a8ad-f469bec8491a"
   },
   "outputs": [
    {
     "name": "stdout",
     "output_type": "stream",
     "text": [
      "Correlation between x1 and y = 0.97\n",
      "Correlation between x2 and y = 0.24\n",
      "Correlation between x3 and y = 0.11\n"
     ]
    }
   ],
   "source": [
    "# Check correlation of each input with the input\n",
    "from scipy.stats import pearsonr\n",
    "print(f'Correlation between x1 and y = {pearsonr(x[:,0],y[:,0])[0]:.2f}')\n",
    "print(f'Correlation between x2 and y = {pearsonr(x[:,1],y[:,0])[0]:.2f}')\n",
    "print(f'Correlation between x3 and y = {pearsonr(x[:,2],y[:,0])[0]:.2f}')"
   ]
  },
  {
   "cell_type": "markdown",
   "metadata": {
    "colab_type": "text",
    "id": "wWSIcpExXLlY"
   },
   "source": [
    "Results above shows that only the size shows high correlation with the price. Even though, we will keep the other variables as predictor, for the sake of this exercise of a multivariate linear regression.\n",
    "\n",
    "Add a bias column to the input vector. This is a column of ones so when we calibrate the parameters it will also multiply such bias."
   ]
  },
  {
   "cell_type": "code",
   "execution_count": 9,
   "metadata": {
    "colab": {
     "base_uri": "https://localhost:8080/",
     "height": 34
    },
    "colab_type": "code",
    "id": "8DAvADy6DqF_",
    "outputId": "89d1e214-8769-43b9-9466-70efc48ea146"
   },
   "outputs": [
    {
     "data": {
      "text/plain": [
       "(99, 4)"
      ]
     },
     "execution_count": 9,
     "metadata": {
      "tags": []
     },
     "output_type": "execute_result"
    }
   ],
   "source": [
    "# Add a bias to the input vector\n",
    "X = np.concatenate((np.ones((len(x),1)),x),axis=1)\n",
    "X.shape"
   ]
  },
  {
   "cell_type": "markdown",
   "metadata": {
    "colab_type": "text",
    "id": "mtlwbE6kYgDO"
   },
   "source": [
    "Another important pre-processing is data normalization. In multivariate regression, the difference in the scale of each variable may cause difficulties for the optimization algorithm to converge, i.e to find the best optimum according the model structure. This procedure is also known as **Feature Scaling**."
   ]
  },
  {
   "cell_type": "code",
   "execution_count": 10,
   "metadata": {
    "colab": {
     "base_uri": "https://localhost:8080/",
     "height": 185
    },
    "colab_type": "code",
    "id": "Zn3E8AsONg-j",
    "outputId": "a2e58710-a10e-4623-afc6-879378c80fb3"
   },
   "outputs": [
    {
     "data": {
      "text/plain": [
       "array([[1.        , 0.84693878, 0.        , 0.        ],\n",
       "       [1.        , 0.44897959, 0.03061224, 0.        ],\n",
       "       [1.        , 0.73469388, 0.        , 0.02040816],\n",
       "       [1.        , 0.33673469, 0.01020408, 0.02040816],\n",
       "       [1.        , 0.30612245, 0.03061224, 0.02040816],\n",
       "       [1.        , 0.30612245, 0.02040816, 0.01020408],\n",
       "       [1.        , 0.91836735, 0.03061224, 0.02040816],\n",
       "       [1.        , 0.33673469, 0.02040816, 0.01020408],\n",
       "       [1.        , 0.33673469, 0.03061224, 0.        ],\n",
       "       [1.        , 0.79591837, 0.02040816, 0.02040816]])"
      ]
     },
     "execution_count": 10,
     "metadata": {
      "tags": []
     },
     "output_type": "execute_result"
    }
   ],
   "source": [
    "Xnorm = X.copy()\n",
    "minx = np.min(X[:,1:])\n",
    "maxx = np.max(X[:,1:])\n",
    "Xnorm[:,1:] = (X[:,1:]-minx)/(maxx-minx)\n",
    "Xnorm[:10,:]"
   ]
  },
  {
   "cell_type": "code",
   "execution_count": 11,
   "metadata": {
    "colab": {
     "base_uri": "https://localhost:8080/",
     "height": 50
    },
    "colab_type": "code",
    "id": "spvruJQ8N7uD",
    "outputId": "79ebe17d-a1ec-49d3-ef01-f82a8af0ba32"
   },
   "outputs": [
    {
     "data": {
      "text/plain": [
       "array([0.62943377, 0.28902469, 0.5230232 , 0.13457221, 0.14045897,\n",
       "       0.11666251, 0.92968321, 0.15153405, 0.19299077, 0.75762035])"
      ]
     },
     "execution_count": 11,
     "metadata": {
      "tags": []
     },
     "output_type": "execute_result"
    }
   ],
   "source": [
    "ynorm = y.copy()\n",
    "maxy = np.max(y)\n",
    "miny = np.min(y)\n",
    "ynorm = (y-miny)/(maxy - miny) \n",
    "ynorm[:10,0]"
   ]
  },
  {
   "cell_type": "markdown",
   "metadata": {
    "colab_type": "text",
    "id": "1cCUls3IY6QF"
   },
   "source": [
    "Now we are ready to start working on the model. It is reasonable to give an initial guess on the parameters and check this initial guess makes sense or is it complete nonsense. In this exercise, the choosen vector of parameters $\\theta$ is \n",
    "\n",
    "$$\n",
    "\\theta = \\begin{bmatrix}0.4 \\\\ 0.4 \\\\ 0.4 \\\\0.4 \\end{bmatrix}\n",
    "$$\n",
    "\n",
    "Notice that there are 4 parameters, which corresponds to the bias + the input variables from the data. The linear regression model works according the following formula.\n",
    "\n",
    "$$\n",
    "Y = X\\cdot \\theta\n",
    "$$\n",
    "\n",
    "Thus, $X$ is the input matrix with dimension (99,4), while the vector $theta$ is a vector of $(4,1)$, thus the resultant matrix has dimension $(99,1)$, which  indicates that our calculation process is correct.\n"
   ]
  },
  {
   "cell_type": "code",
   "execution_count": 12,
   "metadata": {
    "colab": {
     "base_uri": "https://localhost:8080/",
     "height": 286
    },
    "colab_type": "code",
    "id": "bwx_TwkqDLu8",
    "outputId": "6e7bbba7-d8e4-4afc-bcc4-f4b1b94556c0"
   },
   "outputs": [
    {
     "data": {
      "text/plain": [
       "[<matplotlib.lines.Line2D at 0x7f428ef8aef0>]"
      ]
     },
     "execution_count": 12,
     "metadata": {
      "tags": []
     },
     "output_type": "execute_result"
    },
    {
     "data": {
      "image/png": "[encoded data removed]",
      "text/plain": [
       "<Figure size 432x288 with 1 Axes>"
      ]
     },
     "metadata": {
      "tags": []
     },
     "output_type": "display_data"
    }
   ],
   "source": [
    "# Initial estimate of parameters\n",
    "theta0 = np.zeros((X.shape[1],1))+0.4\n",
    "#theta0 = np.array([[0],[0.5],[2],[0.5]])\n",
    "\n",
    "ypred = Xnorm.dot(theta0)\n",
    "\n",
    "sortidx = np.argsort(ynorm[:,0]) # sort the values for better visualization\n",
    "plt.plot(ynorm[sortidx,0],'o')\n",
    "plt.plot(ypred[sortidx,0],'--')"
   ]
  },
  {
   "cell_type": "markdown",
   "metadata": {
    "colab_type": "text",
    "id": "CT8J4nDxhC6t"
   },
   "source": [
    "Create a function `grad()` to compute the necessary gradients of the cost function. This is explained with higher details in the other post I mentioned in the beginning of this one. But only to remember, the gradient can be calculated as:\n",
    "\n",
    "$$\n",
    "\\frac{\\partial J}{\\partial \\theta_j} = \\frac{1}{m}\\sum(f(\\theta) - y)x_j\n",
    "$$\n",
    "\n",
    "Where $j=0,1,..,3$ since there are four predictors. This will produce a derivative for each input $j$, thus the complete gradient consists on the vector:\n",
    "\n",
    "$$\n",
    "\\nabla J = [\\frac{\\partial J}{\\partial \\theta_0},...,\\frac{\\partial J}{\\partial \\theta_3}]\n",
    "$$"
   ]
  },
  {
   "cell_type": "code",
   "execution_count": 0,
   "metadata": {
    "colab": {},
    "colab_type": "code",
    "id": "e6yprDM1E1NT"
   },
   "outputs": [],
   "source": [
    "# calculate gradient\n",
    "def grad(theta):\n",
    "    dJ = 1/m*np.sum((Xnorm.dot(theta)-ynorm)*Xnorm,axis=0).reshape(-1,1)\n",
    "    return dJ"
   ]
  },
  {
   "cell_type": "code",
   "execution_count": 14,
   "metadata": {
    "colab": {
     "base_uri": "https://localhost:8080/",
     "height": 84
    },
    "colab_type": "code",
    "id": "SLJGzF32Gj1D",
    "outputId": "2f29ace3-b653-46b6-8772-06f06f926ff9"
   },
   "outputs": [
    {
     "data": {
      "text/plain": [
       "array([[0.16830492],\n",
       "       [0.0739841 ],\n",
       "       [0.00197455],\n",
       "       [0.00134667]])"
      ]
     },
     "execution_count": 14,
     "metadata": {
      "tags": []
     },
     "output_type": "execute_result"
    }
   ],
   "source": [
    "grad(theta0)"
   ]
  },
  {
   "cell_type": "markdown",
   "metadata": {
    "colab_type": "text",
    "id": "n6sdJkuLiTE7"
   },
   "source": [
    "Similarly, calculate the cost function, also known as objective function, which can be expressed as the sum of the squared errors, as follows.\n",
    "\n",
    "$$\n",
    "J = \\sum(f(\\theta)-y)^2\n",
    "$$"
   ]
  },
  {
   "cell_type": "code",
   "execution_count": 0,
   "metadata": {
    "colab": {},
    "colab_type": "code",
    "id": "Lf2S5qAwIpV1"
   },
   "outputs": [],
   "source": [
    "def cost(theta):\n",
    "    J = np.sum((Xnorm.dot(theta)-ynorm)**2,axis=0)[0]\n",
    "    return J"
   ]
  },
  {
   "cell_type": "code",
   "execution_count": 16,
   "metadata": {
    "colab": {
     "base_uri": "https://localhost:8080/",
     "height": 34
    },
    "colab_type": "code",
    "id": "ubJCF8eqIvti",
    "outputId": "8b16be10-ccf2-44b8-925a-7f522b0dcac0"
   },
   "outputs": [
    {
     "data": {
      "text/plain": [
       "5.923489427685076"
      ]
     },
     "execution_count": 16,
     "metadata": {
      "tags": []
     },
     "output_type": "execute_result"
    }
   ],
   "source": [
    "cost(theta0)"
   ]
  },
  {
   "cell_type": "markdown",
   "metadata": {
    "colab_type": "text",
    "id": "-M8pp59Wiqr8"
   },
   "source": [
    "We are ready to implement the Gradient Descent algorithm! The steps of this algorithm consists of:\n",
    "- Obtain the gradients of the cost function according the actual value of the parameters;\n",
    "- Calculate the cost to keep track of it;\n",
    "- Update the parameters according the following schedule:\n",
    "\n",
    "$$\n",
    "\\theta^{i+1} = \\theta^i - \\alpha\\times\\nabla J(\\theta^i)\n",
    "$$\n",
    "\n",
    "Where the superscript $i$ refers to the current iteration. Then the iterative steps are repeated until the algorithm converges."
   ]
  },
  {
   "cell_type": "code",
   "execution_count": 0,
   "metadata": {
    "colab": {},
    "colab_type": "code",
    "id": "Oi7jm_89GlAf"
   },
   "outputs": [],
   "source": [
    "def GD(theta0,learning_rate = 0.5,epochs=1000,TOL=1e-7):\n",
    "    \n",
    "    theta_history = [theta0]\n",
    "    J_history = [cost(theta0)]\n",
    "    \n",
    "    thetanew = theta0*10000\n",
    "    print(f'epoch \\t Cost(J) \\t')\n",
    "    for epoch in range(epochs):\n",
    "        if epoch%100 == 0:\n",
    "            print(f'{epoch:5d}\\t{J_history[-1]:7.4f}\\t')\n",
    "        dJ = grad(theta0)\n",
    "        J = cost(theta0)\n",
    "        \n",
    "        thetanew = theta0 - learning_rate*dJ\n",
    "        theta_history.append(thetanew)\n",
    "        J_history.append(J)\n",
    "        \n",
    "        if np.sum((thetanew - theta0)**2) < TOL:\n",
    "            print('Convergence achieved.')\n",
    "            break\n",
    "        theta0 = thetanew\n",
    "\n",
    "    return thetanew,theta_history,J_history\n",
    "           \n",
    "            \n",
    "        "
   ]
  },
  {
   "cell_type": "markdown",
   "metadata": {
    "colab_type": "text",
    "id": "H5xd0xF61E67"
   },
   "source": [
    "In the above code, a maximum number of iterations is fixed. This avoid the algorithm to loop infinitely. Additionally, the iteration process is stopped if the following criteria is met at any point.\n",
    "\n",
    "$$\n",
    "\\sum(\\theta^{i+1}-\\theta^{i})^2 < \\text{TOL}\n",
    "$$\n",
    "\n",
    "Where TOL is a tolerance, i.e a maximum difference between the values of the parameters between iterations so it can be stated that the values converged.\n",
    "\n",
    "Next, evaluate the Gradient Descent to determine the optimum set of parameters for the linear regression."
   ]
  },
  {
   "cell_type": "code",
   "execution_count": 18,
   "metadata": {
    "colab": {
     "base_uri": "https://localhost:8080/",
     "height": 118
    },
    "colab_type": "code",
    "id": "BzIc5-TVKZs6",
    "outputId": "7557efe1-48ec-4628-ecb3-3b32643fbaaa"
   },
   "outputs": [
    {
     "name": "stdout",
     "output_type": "stream",
     "text": [
      "epoch \t Cost(J) \t\n",
      "    0\t 5.9235\t\n",
      "  100\t 0.5097\t\n",
      "  200\t 0.3353\t\n",
      "  300\t 0.3226\t\n",
      "Convergence achieved.\n"
     ]
    }
   ],
   "source": [
    "theta,theta_history,J_history = GD(theta0)"
   ]
  },
  {
   "cell_type": "code",
   "execution_count": 19,
   "metadata": {
    "colab": {
     "base_uri": "https://localhost:8080/",
     "height": 286
    },
    "colab_type": "code",
    "id": "VNMFGZcKKf4P",
    "outputId": "00dcbeac-3c24-4a1f-f413-ebe5b7ac6026"
   },
   "outputs": [
    {
     "data": {
      "text/plain": [
       "[<matplotlib.lines.Line2D at 0x7f4283fff2e8>]"
      ]
     },
     "execution_count": 19,
     "metadata": {
      "tags": []
     },
     "output_type": "execute_result"
    },
    {
     "data": {
      "image/png": "[encoded data removed]",
      "text/plain": [
       "<Figure size 432x288 with 1 Axes>"
      ]
     },
     "metadata": {
      "tags": []
     },
     "output_type": "display_data"
    }
   ],
   "source": [
    "plt.plot(J_history)"
   ]
  },
  {
   "cell_type": "markdown",
   "metadata": {
    "colab_type": "text",
    "id": "H5dy43rk1_hn"
   },
   "source": [
    "Observe in the plot above how the cost function J drastically reduces at the initial iterations, converging to a value much smaller than the initial one. By using an appropriate Tolerance TOL, the iteration process was halted at less than 350 iterations, though the maximum number was initially fixed to 1000.\n",
    "\n",
    "We can perform predictions on the training set using the following code."
   ]
  },
  {
   "cell_type": "code",
   "execution_count": 20,
   "metadata": {
    "colab": {
     "base_uri": "https://localhost:8080/",
     "height": 286
    },
    "colab_type": "code",
    "id": "4Ax6CZ0pK3sq",
    "outputId": "39965f10-6cb2-49a7-d647-a8422eea92dd"
   },
   "outputs": [
    {
     "data": {
      "text/plain": [
       "[<matplotlib.lines.Line2D at 0x7f4283fb4908>]"
      ]
     },
     "execution_count": 20,
     "metadata": {
      "tags": []
     },
     "output_type": "execute_result"
    },
    {
     "data": {
      "image/png": "[encoded data removed]",
      "text/plain": [
       "<Figure size 432x288 with 1 Axes>"
      ]
     },
     "metadata": {
      "tags": []
     },
     "output_type": "display_data"
    }
   ],
   "source": [
    "yprednorm = Xnorm.dot(theta)\n",
    "\n",
    "ypred = yprednorm*(maxy-miny) + miny\n",
    "plt.plot(y[sortidx,0],'o')\n",
    "plt.plot(ypred[sortidx,0],'--')"
   ]
  },
  {
   "cell_type": "markdown",
   "metadata": {
    "colab_type": "text",
    "id": "H7z0pVOS2mhw"
   },
   "source": [
    "The following function is to used to get an input, normalize it, perform predictions using the values of $\\theta$ encountered, and denormalizing the output to come back to the original range."
   ]
  },
  {
   "cell_type": "code",
   "execution_count": 0,
   "metadata": {
    "colab": {},
    "colab_type": "code",
    "id": "90SPW1f9Rmkh"
   },
   "outputs": [],
   "source": [
    "def predict(x,theta):\n",
    "    xnorm = (x-minx)/(maxx-minx)\n",
    "    yprednorm = xnorm.dot(theta)\n",
    "    ypred = yprednorm*(maxy - miny) + miny\n",
    "    return ypred"
   ]
  },
  {
   "cell_type": "markdown",
   "metadata": {
    "colab_type": "text",
    "id": "QDxDwAa521v3"
   },
   "source": [
    "Let's use our model to predict the price of a house with 73 square meters, 1 bedroom and 1 bathroom."
   ]
  },
  {
   "cell_type": "code",
   "execution_count": 22,
   "metadata": {
    "colab": {
     "base_uri": "https://localhost:8080/",
     "height": 34
    },
    "colab_type": "code",
    "id": "iaRkEiDBdNat",
    "outputId": "b43e5487-7642-4a1f-d5da-4462fb3b7a94"
   },
   "outputs": [
    {
     "data": {
      "text/plain": [
       "array([54.35879773])"
      ]
     },
     "execution_count": 22,
     "metadata": {
      "tags": []
     },
     "output_type": "execute_result"
    }
   ],
   "source": [
    "x = np.array([1,73,1,1])\n",
    "\n",
    "predict(x,theta)"
   ]
  },
  {
   "cell_type": "markdown",
   "metadata": {
    "colab_type": "text",
    "id": "azSumKQw3AaA"
   },
   "source": [
    "To confirm that the model is statistically significant, use the Pearson correlation and evaluate the predicted output against the observed one."
   ]
  },
  {
   "cell_type": "code",
   "execution_count": 23,
   "metadata": {
    "colab": {
     "base_uri": "https://localhost:8080/",
     "height": 34
    },
    "colab_type": "code",
    "id": "hOtZRXKRda8C",
    "outputId": "72eb9fc9-f8db-491b-884f-eeb6b3620446"
   },
   "outputs": [
    {
     "data": {
      "text/plain": [
       "(0.9753195824331272, 1.930066280643269e-65)"
      ]
     },
     "execution_count": 23,
     "metadata": {
      "tags": []
     },
     "output_type": "execute_result"
    }
   ],
   "source": [
    "pearsonr(ypred.reshape(-1),y.reshape(-1))"
   ]
  },
  {
   "cell_type": "markdown",
   "metadata": {
    "colab_type": "text",
    "id": "ajpwpjJh3MLZ"
   },
   "source": [
    "Notice here that the value of pearson correlation is 0.97 which indicates high correlation.\n",
    "The second value (1.93e-65) is the p-value. It must be a very low value for us to reject the null hypothesis, i,e there is no initial hypothesis of linear correlation. Assuming 1% significance level, we have:\n",
    "0.01 >> 1.93e-65 thus we can reject the null hypothesis thus indicating linear correlation between the prediction and observations.\n",
    "\n",
    "See you next post!"
   ]
  },
  {
   "cell_type": "code",
   "execution_count": 0,
   "metadata": {
    "colab": {},
    "colab_type": "code",
    "id": "XDsWEeE74R1v"
   },
   "outputs": [],
   "source": []
  }
 ],
 "metadata": {
  "colab": {
   "collapsed_sections": [],
   "name": "linearRegressionNumpy.ipynb",
   "provenance": [],
   "version": "0.3.2"
  },
  "kernelspec": {
   "display_name": "Python 3",
   "language": "python",
   "name": "python3"
  },
  "language_info": {
   "codemirror_mode": {
    "name": "ipython",
    "version": 3
   },
   "file_extension": ".py",
   "mimetype": "text/x-python",
   "name": "python",
   "nbconvert_exporter": "python",
   "pygments_lexer": "ipython3",
   "version": "3.7.2"
  }
 },
 "nbformat": 4,
 "nbformat_minor": 1
}

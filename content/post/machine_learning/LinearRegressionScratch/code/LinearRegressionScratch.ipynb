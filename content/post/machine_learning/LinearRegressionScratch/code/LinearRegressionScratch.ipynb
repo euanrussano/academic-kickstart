{
 "cells": [
  {
   "cell_type": "code",
   "execution_count": 69,
   "metadata": {
    "colab": {},
    "colab_type": "code",
    "id": "Uv8wuNsyPKGp"
   },
   "outputs": [],
   "source": [
    "import matplotlib.pyplot as plt\n",
    "import random"
   ]
  },
  {
   "cell_type": "code",
   "execution_count": 82,
   "metadata": {
    "colab": {
     "base_uri": "https://localhost:8080/",
     "height": 52
    },
    "colab_type": "code",
    "id": "SHbSmlCGPPTt",
    "outputId": "2563ddb9-a731-4881-dc33-5d513a783ebe"
   },
   "outputs": [
    {
     "data": {
      "text/plain": [
       "[-10, -9, -8, -7, -6, -5, -4, -3, -2, -1, 0, 1, 2, 3, 4, 5, 6, 7, 8, 9, 10, 11]"
      ]
     },
     "execution_count": 82,
     "metadata": {},
     "output_type": "execute_result"
    }
   ],
   "source": [
    "x = list(range(-10,12))\n",
    "x"
   ]
  },
  {
   "cell_type": "code",
   "execution_count": 83,
   "metadata": {
    "colab": {
     "base_uri": "https://localhost:8080/",
     "height": 52
    },
    "colab_type": "code",
    "id": "pRg3jqWSPboN",
    "outputId": "382e06bd-cb07-4d6e-8ec4-25f224b49cf7"
   },
   "outputs": [
    {
     "data": {
      "text/plain": [
       "[-21,\n",
       " -19,\n",
       " -17,\n",
       " -15,\n",
       " -13,\n",
       " -11,\n",
       " -9,\n",
       " -7,\n",
       " -5,\n",
       " -3,\n",
       " -1,\n",
       " 1,\n",
       " 3,\n",
       " 5,\n",
       " 7,\n",
       " 9,\n",
       " 11,\n",
       " 13,\n",
       " 15,\n",
       " 17,\n",
       " 19,\n",
       " 21]"
      ]
     },
     "execution_count": 83,
     "metadata": {},
     "output_type": "execute_result"
    }
   ],
   "source": [
    "y = [2*xval-1 for xval in x]\n",
    "y"
   ]
  },
  {
   "cell_type": "code",
   "execution_count": 84,
   "metadata": {
    "colab": {
     "base_uri": "https://localhost:8080/",
     "height": 158
    },
    "colab_type": "code",
    "id": "Z72y__H2PkBr",
    "outputId": "30b06ac5-001f-488a-e317-281009d18870"
   },
   "outputs": [
    {
     "name": "stdout",
     "output_type": "stream",
     "text": [
      "[0.0, 0.047619047619047616, 0.09523809523809523, 0.14285714285714285, 0.19047619047619047, 0.23809523809523808, 0.2857142857142857, 0.3333333333333333, 0.38095238095238093, 0.42857142857142855, 0.47619047619047616, 0.5238095238095238, 0.5714285714285714, 0.6190476190476191, 0.6666666666666666, 0.7142857142857143, 0.7619047619047619, 0.8095238095238095, 0.8571428571428571, 0.9047619047619048, 0.9523809523809523, 1.0]\n",
      "[0.15626937699140594, 0.06363217055978763, 0.2697365945239528, 0.25760818458793633, 0.28858735129599694, 0.26450946390927416, 0.4454470531284326, 0.39695686545527575, 0.5398542536507192, 0.5975993900926226, 0.49567311062390357, 0.7226848420350971, 0.6090291664098235, 0.671964378262487, 0.7808544437882485, 0.854706131444636, 0.8126457659516385, 0.9856245043347193, 1.0542487207576783, 0.9501092344881731, 1.078640497472231, 1.0149725009050923]\n"
     ]
    }
   ],
   "source": [
    "random.seed(999)\n",
    "# normalize the values\n",
    "minx = min(x)\n",
    "maxx = max(x)\n",
    "miny = min(y)\n",
    "maxy = max(y)\n",
    "x = [(xval - minx)/(maxx-minx) for xval in x]\n",
    "y = [(yval - miny)/(maxy-miny) + random.random()/5 for yval in y] \n",
    "print(x)\n",
    "print(y)"
   ]
  },
  {
   "cell_type": "code",
   "execution_count": 85,
   "metadata": {
    "colab": {
     "base_uri": "https://localhost:8080/",
     "height": 286
    },
    "colab_type": "code",
    "id": "IE1GV54uPykP",
    "outputId": "1fb6dee5-b00a-4476-c026-3297ff6fe21d"
   },
   "outputs": [
    {
     "data": {
      "image/png": "[encoded data removed]",
      "text/plain": [
       "<Figure size 432x288 with 1 Axes>"
      ]
     },
     "metadata": {
      "needs_background": "light"
     },
     "output_type": "display_data"
    }
   ],
   "source": [
    "plt.plot(x,y,'o')\n",
    "plt.savefig('fig1.png')"
   ]
  },
  {
   "cell_type": "code",
   "execution_count": 86,
   "metadata": {
    "colab": {
     "base_uri": "https://localhost:8080/",
     "height": 286
    },
    "colab_type": "code",
    "id": "H-6McPEKP3kK",
    "outputId": "ef48c1b9-f009-46fe-c0d4-26a73b26bbe7"
   },
   "outputs": [
    {
     "data": {
      "image/png": "[encoded data removed]",
      "text/plain": [
       "<Figure size 432x288 with 1 Axes>"
      ]
     },
     "metadata": {
      "needs_background": "light"
     },
     "output_type": "display_data"
    }
   ],
   "source": [
    "theta0 = 0.5\n",
    "theta1 = 0\n",
    "ypred = [theta0 + theta1*xval for xval in x]\n",
    "\n",
    "plt.plot(x,y,'o')\n",
    "plt.plot(x,ypred,'+')\n",
    "plt.savefig('fig2.png')"
   ]
  },
  {
   "cell_type": "code",
   "execution_count": 87,
   "metadata": {
    "colab": {
     "base_uri": "https://localhost:8080/",
     "height": 1000
    },
    "colab_type": "code",
    "id": "Oiy5H0glQL00",
    "outputId": "3896bf06-693f-40bb-bd95-38cd0146e264"
   },
   "outputs": [
    {
     "name": "stdout",
     "output_type": "stream",
     "text": [
      "J =  2.284353695791799\n",
      "J =  1.643353917527863\n",
      "J =  1.3585777934342633\n",
      "J =  1.157719644621118\n",
      "J =  0.9937623192236676\n",
      "J =  0.8557175447728806\n",
      "J =  0.7388031866951612\n",
      "J =  0.6396761765533788\n",
      "J =  0.555613260248091\n",
      "J =  0.48432249922214643\n",
      "J =  0.4238629259211516\n",
      "J =  0.3725888944485271\n",
      "J =  0.32910484736204115\n",
      "J =  0.2922272627355605\n",
      "J =  0.26095243092577197\n",
      "J =  0.2344291345623196\n",
      "J =  0.21193548041703153\n",
      "J =  0.19285925135783397\n",
      "J =  0.17668124342848604\n",
      "J =  0.16296113450390157\n",
      "J =  0.15132549989891148\n",
      "J =  0.14145764874663264\n",
      "J =  0.13308900451971867\n",
      "J =  0.12599179509530548\n",
      "J =  0.11997285340675956\n",
      "J =  0.114868359952544\n",
      "J =  0.11053938406734565\n",
      "J =  0.10686810260078754\n",
      "J =  0.1037545930862675\n",
      "J =  0.10111411411855294\n",
      "J =  0.09887479891928089\n",
      "J =  0.0969756993153817\n",
      "J =  0.09536512689274887\n",
      "J =  0.09399924617579251\n",
      "J =  0.09284088154298493\n",
      "J =  0.09185850540582881\n",
      "J =  0.09102538011218556\n",
      "J =  0.09031883021886536\n",
      "J =  0.0897196253266841\n",
      "J =  0.08921145668040971\n",
      "J =  0.08878049328804428\n",
      "J =  0.08841500547819854\n",
      "J =  0.08810504564979493\n",
      "J =  0.08784217752496043\n",
      "J =  0.08761924653609686\n",
      "J =  0.08743018509767801\n",
      "J =  0.08726984746279276\n",
      "J =  0.08713386966967113\n",
      "J =  0.08701855076631161\n",
      "J =  0.08692075208046186\n",
      "J =  0.0868378117933511\n",
      "J =  0.08676747249209935\n",
      "J =  0.08670781972897365\n",
      "J =  0.08665722991523946\n",
      "J =  0.08661432613141515\n",
      "J =  0.08657794065120542\n",
      "J =  0.08654708315911298\n",
      "J =  0.08652091379669846\n",
      "J =  0.08649872030387891\n",
      "J =  0.08647989863311265\n",
      "J =  0.08646393650883974\n",
      "J =  0.08645039948471112\n",
      "J =  0.0864389191191203\n",
      "J =  0.08642918294720803\n",
      "J =  0.08642092597640358\n",
      "J =  0.08641392347403634\n",
      "J =  0.08640798485071235\n",
      "J =  0.08640294847298143\n",
      "J =  0.08639867726410601\n",
      "J =  0.08639505497319942\n",
      "J =  0.08639198301118697\n",
      "J =  0.08638937776747549\n",
      "J =  0.086387168334296\n",
      "J =  0.08638529457678415\n",
      "J =  0.08638370549626985\n",
      "J =  0.08638235784222979\n",
      "J =  0.08638121493512385\n",
      "J =  0.08638024566807616\n",
      "J =  0.08637942366022879\n",
      "J =  0.08637872653872587\n",
      "J =  0.0863781353297837\n",
      "J =  0.08637763394227545\n",
      "J =  0.08637720872977367\n",
      "J =  0.08637684811913074\n",
      "J =  0.08637654229548905\n",
      "J =  0.08637628293514667\n",
      "J =  0.08637606297900834\n",
      "J =  0.08637587644045633\n",
      "J =  0.08637571824240955\n",
      "J =  0.08637558407914044\n",
      "J =  0.08637547029908328\n",
      "J =  0.08637537380544924\n",
      "J =  0.08637529197193944\n",
      "J =  0.08637522257126455\n",
      "J =  0.0863751637145239\n",
      "J =  0.08637511379979414\n",
      "J =  0.08637507146852985\n",
      "J =  0.08637503556858715\n",
      "J =  0.08637500512286571\n",
      "J =  0.0863749793027142\n"
     ]
    }
   ],
   "source": [
    "epochs = 100 # number of iterations\n",
    "learning_rate = 0.05\n",
    "\n",
    "theta_history = [[theta0,theta1]]\n",
    "J = list()\n",
    "for epoch in range(epochs):\n",
    "    J.append((sum([(ypredval-yval)**2 for ypredval,yval in zip(ypred,y)])))\n",
    "    print('J = ',J[-1])\n",
    "    \n",
    "    dJd0 = (sum([ypredval - yval for ypredval,yval in zip(ypred,y)]))\n",
    "    dJd1 = (sum([(ypredval - yval)*xval for ypredval,yval,xval in zip(ypred,y,x)]))\n",
    "    \n",
    "    theta0 = theta0 - learning_rate*dJd0\n",
    "    theta1 = theta1 - learning_rate*dJd1\n",
    "    \n",
    "    theta_history.append([theta0,theta1])\n",
    "    \n",
    "    ypred = [theta0 + theta1*xval for xval in x]"
   ]
  },
  {
   "cell_type": "code",
   "execution_count": 88,
   "metadata": {
    "colab": {
     "base_uri": "https://localhost:8080/",
     "height": 286
    },
    "colab_type": "code",
    "id": "MHgaKRHHRqig",
    "outputId": "c7198acb-373e-4d88-bc02-f221cba54e0f"
   },
   "outputs": [
    {
     "name": "stdout",
     "output_type": "stream",
     "text": [
      "0.11181009374326462 0.9865218627848554\n"
     ]
    },
    {
     "data": {
      "image/png": "[encoded data removed]",
      "text/plain": [
       "<Figure size 432x288 with 1 Axes>"
      ]
     },
     "metadata": {
      "needs_background": "light"
     },
     "output_type": "display_data"
    }
   ],
   "source": [
    "plt.plot(J)\n",
    "print(theta0,theta1)\n",
    "plt.savefig('fig3.png')"
   ]
  },
  {
   "cell_type": "code",
   "execution_count": 89,
   "metadata": {
    "colab": {
     "base_uri": "https://localhost:8080/",
     "height": 286
    },
    "colab_type": "code",
    "id": "P6i5G-lKUnLc",
    "outputId": "f1309740-ed15-4a79-84f6-7b71028ecbd6"
   },
   "outputs": [
    {
     "data": {
      "image/png": "[encoded data removed]",
      "text/plain": [
       "<Figure size 432x288 with 1 Axes>"
      ]
     },
     "metadata": {
      "needs_background": "light"
     },
     "output_type": "display_data"
    }
   ],
   "source": [
    "plt.plot(x,y,'o')\n",
    "plt.plot(x,ypred,'+')\n",
    "plt.savefig('fig4.png')"
   ]
  },
  {
   "cell_type": "code",
   "execution_count": 93,
   "metadata": {
    "colab": {
     "base_uri": "https://localhost:8080/",
     "height": 976
    },
    "colab_type": "code",
    "id": "SxCet-5KSp4i",
    "outputId": "d0fb43d2-eb85-4251-816f-0188a0e74b8c"
   },
   "outputs": [
    {
     "name": "stdout",
     "output_type": "stream",
     "text": [
      "J =  2.2842804610861944\n",
      "J =  1.6433592517431583\n",
      "J =  1.3585823172307152\n",
      "J =  1.1577234811243724\n",
      "J =  0.9937655728530864\n",
      "J =  0.8557203040835588\n",
      "J =  0.7388055267881584\n",
      "J =  0.6396781611197702\n",
      "J =  0.555614943302468\n",
      "J =  0.4843239265727498\n",
      "J =  0.42386413641664894\n",
      "J =  0.37258992103536936\n",
      "J =  0.3291057179811778\n",
      "J =  0.292228001082917\n",
      "J =  0.2609530570971893\n",
      "J =  0.2344296656005098\n",
      "J =  0.21193593077543438\n",
      "J =  0.19285963329400124\n",
      "J =  0.17668156733769913\n",
      "J =  0.16296140920210322\n",
      "J =  0.1513257328626524\n",
      "J =  0.14145784631656305\n",
      "J =  0.13308917207316384\n",
      "J =  0.1259919371926223\n",
      "J =  0.1199729739154572\n",
      "J =  0.11486846215254692\n",
      "J =  0.1105394707402647\n",
      "J =  0.10686817610562793\n",
      "J =  0.10375465542363438\n",
      "J =  0.10111416698510287\n",
      "J =  0.09887484375390003\n",
      "J =  0.09697573733834844\n",
      "J =  0.09536515913894679\n",
      "J =  0.0939992735228769\n",
      "J =  0.09284090473527025\n",
      "J =  0.09185852507454713\n",
      "J =  0.09102539679266688\n",
      "J =  0.09031884436510765\n",
      "J =  0.08971963732371033\n",
      "J =  0.08921146685474682\n",
      "J =  0.08878050191661054\n",
      "J =  0.08841501279584046\n",
      "J =  0.08810505185567911\n",
      "J =  0.08784218278799459\n",
      "J =  0.08761925099952657\n",
      "J =  0.08743018888298595\n",
      "J =  0.0872698506730049\n",
      "J =  0.08713387239216083\n",
      "J =  0.08701855307517775\n",
      "J =  0.08692075403854566\n",
      "J =  0.08683781345394634\n",
      "J =  0.08676747390040294\n",
      "J =  0.08670782092331591\n",
      "J =  0.0866572309281272\n"
     ]
    }
   ],
   "source": [
    "# check convergence and stop (early stopping)\n",
    "epochs = 100 # number of iterations\n",
    "learning_rate = 0.05\n",
    "\n",
    "theta0 = 0.5\n",
    "theta1 = 0\n",
    "theta_history = [[theta0,theta1]]\n",
    "J = list()\n",
    "for epoch in range(epochs):\n",
    "    J.append((sum([(ypredval-yval)**2 for ypredval,yval in zip(ypred,y)])))\n",
    "    print('J = ',J[-1])\n",
    "    \n",
    "    dJd0 = (sum([ypredval - yval for ypredval,yval in zip(ypred,y)]))\n",
    "    dJd1 = (sum([(ypredval - yval)*xval for ypredval,yval,xval in zip(ypred,y,x)]))\n",
    "    \n",
    "    theta0 = theta0 - learning_rate*dJd0\n",
    "    theta1 = theta1 - learning_rate*dJd1\n",
    "    \n",
    "    theta_history.append([theta0,theta1])\n",
    "    \n",
    "    ypred = [theta0 + theta1*xval for xval in x]\n",
    "    \n",
    "    if abs(learning_rate*dJd0) < 1e-3 and abs(learning_rate*dJd1) < 1e-3:\n",
    "        break"
   ]
  },
  {
   "cell_type": "code",
   "execution_count": 94,
   "metadata": {
    "colab": {
     "base_uri": "https://localhost:8080/",
     "height": 286
    },
    "colab_type": "code",
    "id": "bZTMjTWVTeFm",
    "outputId": "68393a63-d4c2-4b20-c6bd-b8ced1ed704d"
   },
   "outputs": [
    {
     "name": "stdout",
     "output_type": "stream",
     "text": [
      "0.1175141210289797 0.9759340678167354\n"
     ]
    },
    {
     "data": {
      "image/png": "[encoded data removed]",
      "text/plain": [
       "<Figure size 432x288 with 1 Axes>"
      ]
     },
     "metadata": {
      "needs_background": "light"
     },
     "output_type": "display_data"
    }
   ],
   "source": [
    "plt.plot(J)\n",
    "print(theta0,theta1)\n",
    "plt.savefig('fig5.png')"
   ]
  },
  {
   "cell_type": "code",
   "execution_count": 95,
   "metadata": {
    "colab": {
     "base_uri": "https://localhost:8080/",
     "height": 286
    },
    "colab_type": "code",
    "id": "varCzdiUTm2X",
    "outputId": "72429a45-3b78-4f2c-a897-92d1252d8d29",
    "scrolled": true
   },
   "outputs": [
    {
     "data": {
      "image/png": "[encoded data removed]",
      "text/plain": [
       "<Figure size 432x288 with 1 Axes>"
      ]
     },
     "metadata": {
      "needs_background": "light"
     },
     "output_type": "display_data"
    }
   ],
   "source": [
    "plt.plot(x,y,'o')\n",
    "plt.plot(x,ypred,'+')\n",
    "plt.savefig('fig6.png')"
   ]
  },
  {
   "cell_type": "code",
   "execution_count": 0,
   "metadata": {
    "colab": {},
    "colab_type": "code",
    "id": "pxeo23OeUr5D"
   },
   "outputs": [],
   "source": []
  }
 ],
 "metadata": {
  "colab": {
   "name": "Untitled9.ipynb",
   "provenance": [],
   "version": "0.3.2"
  },
  "kernelspec": {
   "display_name": "Python 3",
   "language": "python",
   "name": "python3"
  },
  "language_info": {
   "codemirror_mode": {
    "name": "ipython",
    "version": 3
   },
   "file_extension": ".py",
   "mimetype": "text/x-python",
   "name": "python",
   "nbconvert_exporter": "python",
   "pygments_lexer": "ipython3",
   "version": "3.7.2"
  }
 },
 "nbformat": 4,
 "nbformat_minor": 1
}
